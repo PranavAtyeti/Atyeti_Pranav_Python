{
  "nbformat": 4,
  "nbformat_minor": 0,
  "metadata": {
    "colab": {
      "provenance": [],
      "authorship_tag": "ABX9TyP6xkc1/ous5nfiDXWfrDIi",
      "include_colab_link": true
    },
    "kernelspec": {
      "name": "python3",
      "display_name": "Python 3"
    },
    "language_info": {
      "name": "python"
    }
  },
  "cells": [
    {
      "cell_type": "markdown",
      "metadata": {
        "id": "view-in-github",
        "colab_type": "text"
      },
      "source": [
        "<a href=\"https://colab.research.google.com/github/PranavAtyeti/Atyeti_Pranav_Python/blob/main/Functions.ipynb\" target=\"_parent\"><img src=\"https://colab.research.google.com/assets/colab-badge.svg\" alt=\"Open In Colab\"/></a>"
      ]
    },
    {
      "cell_type": "markdown",
      "source": [
        "# Def, return\n",
        "\n",
        "\n",
        "\n"
      ],
      "metadata": {
        "id": "PohXcAZfJR09"
      }
    },
    {
      "cell_type": "code",
      "execution_count": 2,
      "metadata": {
        "colab": {
          "base_uri": "https://localhost:8080/"
        },
        "id": "EltB3HGercOs",
        "outputId": "b173c1c4-5770-4df4-f961-8940e9e82348"
      },
      "outputs": [
        {
          "output_type": "stream",
          "name": "stdout",
          "text": [
            "{'count': 4, 'sum': 100, 'average': 25.0}\n"
          ]
        }
      ],
      "source": [
        "def summary(numbers):\n",
        "  if not numbers:\n",
        "    return {\"count\":0, \"sum\":0, \"average\":None}\n",
        "\n",
        "  total = sum(numbers)\n",
        "  count = len(numbers)\n",
        "  average = total/count\n",
        "\n",
        "  return {\"count\":count, \"sum\":total, \"average\":average}\n",
        "\n",
        "data = [10,20,30,40]\n",
        "result = summary(data)\n",
        "print(result)"
      ]
    },
    {
      "cell_type": "markdown",
      "source": [
        "# Args, Kwargs"
      ],
      "metadata": {
        "id": "_axgKJ8UJQ3Y"
      }
    },
    {
      "cell_type": "code",
      "source": [
        "def place_order(customer, *items, **options):\n",
        "  print(f\"order for {customer}:\")\n",
        "  print(\"Items:\",\", \".join(items))\n",
        "  print(\"Options:\")\n",
        "\n",
        "  for key, value in options.items():\n",
        "    print(f\" {key} = {value}\")\n",
        "\n",
        "extra_options = {\n",
        "    \"delivery\" : \"express\",\n",
        "    \"gift_wrap\": True,\n",
        "    \"discount_code\": \"SUMMER10\"\n",
        "}\n",
        "\n",
        "place_order(\"Alice\", \"Book\", \"Pen\", **extra_options)"
      ],
      "metadata": {
        "colab": {
          "base_uri": "https://localhost:8080/"
        },
        "id": "gOvITaDYLmRJ",
        "outputId": "93925e75-d0e3-43a4-efe2-49483600c45b"
      },
      "execution_count": 4,
      "outputs": [
        {
          "output_type": "stream",
          "name": "stdout",
          "text": [
            "order for Alice:\n",
            "Items: Book, Pen\n",
            "Options:\n",
            " delivery = express\n",
            " gift_wrap = True\n",
            " discount_code = SUMMER10\n"
          ]
        }
      ]
    },
    {
      "cell_type": "markdown",
      "source": [
        "# Lambda"
      ],
      "metadata": {
        "id": "S_R7fTBSM79I"
      }
    },
    {
      "cell_type": "code",
      "source": [
        "products = [\n",
        "    {\"name\":\"Shirt\", \"price\":1000},\n",
        "    {\"name\":\"Jeans\",\"price\":2000},\n",
        "    {\"name\":\"Socks\", \"price\":200}\n",
        "]\n",
        "\n",
        "discounted = list(map(lambda p:{**p, \"price\": p[\"price\"]*0.9}, products))\n",
        "\n",
        "cheap = list(filter(lambda p: p[\"price\"] < 1000, discounted))\n",
        "\n",
        "print(discounted)\n",
        "print(cheap)"
      ],
      "metadata": {
        "colab": {
          "base_uri": "https://localhost:8080/"
        },
        "id": "R8mdHHV7MsNq",
        "outputId": "23795994-ec2d-4980-e3ff-635d43a04719"
      },
      "execution_count": 6,
      "outputs": [
        {
          "output_type": "stream",
          "name": "stdout",
          "text": [
            "[{'name': 'Shirt', 'price': 900.0}, {'name': 'Jeans', 'price': 1800.0}, {'name': 'Socks', 'price': 180.0}]\n",
            "[{'name': 'Shirt', 'price': 900.0}, {'name': 'Socks', 'price': 180.0}]\n"
          ]
        }
      ]
    },
    {
      "cell_type": "markdown",
      "source": [
        "# Recursion"
      ],
      "metadata": {
        "id": "fT3RzdltX-P2"
      }
    },
    {
      "cell_type": "code",
      "source": [
        "def factorial(n):\n",
        "  if n==0:\n",
        "    return 1\n",
        "  return n * factorial(n-1)\n",
        "\n",
        "print(factorial(5))"
      ],
      "metadata": {
        "colab": {
          "base_uri": "https://localhost:8080/"
        },
        "id": "BaZdbnZ7Ogjd",
        "outputId": "b893cb87-d149-437a-b2b9-f1cd31ea9f6f"
      },
      "execution_count": 7,
      "outputs": [
        {
          "output_type": "stream",
          "name": "stdout",
          "text": [
            "120\n"
          ]
        }
      ]
    },
    {
      "cell_type": "code",
      "source": [
        "#Scope of variable\n",
        "\n",
        "discount = 10   #global variable\n",
        "\n",
        "def apply_discount(price):\n",
        "  discount = 5  #Local variable preceeds global\n",
        "  return price - (price * discount/100)\n",
        "\n",
        "print(\"final price: \", apply_discount(10010))\n",
        "print(\"global discount : \",discount )"
      ],
      "metadata": {
        "colab": {
          "base_uri": "https://localhost:8080/"
        },
        "id": "Mm922B39YnTO",
        "outputId": "b8e514fd-6159-4742-ebc9-94482441e980"
      },
      "execution_count": 8,
      "outputs": [
        {
          "output_type": "stream",
          "name": "stdout",
          "text": [
            "final price:  9509.5\n",
            "global discount :  10\n"
          ]
        }
      ]
    },
    {
      "cell_type": "code",
      "source": [],
      "metadata": {
        "id": "ixlVOvLaopHI"
      },
      "execution_count": null,
      "outputs": []
    }
  ]
}