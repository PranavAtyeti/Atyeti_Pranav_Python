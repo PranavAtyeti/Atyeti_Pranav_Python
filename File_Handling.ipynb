{
  "nbformat": 4,
  "nbformat_minor": 0,
  "metadata": {
    "colab": {
      "provenance": [],
      "authorship_tag": "ABX9TyPoiCdBJrV3ya1KWyCPq5h8",
      "include_colab_link": true
    },
    "kernelspec": {
      "name": "python3",
      "display_name": "Python 3"
    },
    "language_info": {
      "name": "python"
    }
  },
  "cells": [
    {
      "cell_type": "markdown",
      "metadata": {
        "id": "view-in-github",
        "colab_type": "text"
      },
      "source": [
        "<a href=\"https://colab.research.google.com/github/PranavAtyeti/Atyeti_Pranav_Python/blob/main/File_Handling.ipynb\" target=\"_parent\"><img src=\"https://colab.research.google.com/assets/colab-badge.svg\" alt=\"Open In Colab\"/></a>"
      ]
    },
    {
      "cell_type": "markdown",
      "source": [
        "# File Handling\n"
      ],
      "metadata": {
        "id": "OLTTBxktX1f7"
      }
    },
    {
      "cell_type": "code",
      "execution_count": 16,
      "metadata": {
        "id": "lFAmpTifGuWi"
      },
      "outputs": [],
      "source": [
        "#write\n",
        "\n",
        "file = open(\"example.txt\", \"w\")\n",
        "file.write(\"Hello this is the first line\\n\")\n",
        "file.write(\"2nd line\")\n",
        "file.close()"
      ]
    },
    {
      "cell_type": "code",
      "source": [
        "#read\n",
        "\n",
        "file = open(\"example.txt\",\"r\")\n",
        "print(file.read())\n",
        "file.close()"
      ],
      "metadata": {
        "colab": {
          "base_uri": "https://localhost:8080/"
        },
        "id": "KZQNdze-Ik-V",
        "outputId": "8bb2f1a3-36bb-49bb-928f-6824eadfd570"
      },
      "execution_count": 9,
      "outputs": [
        {
          "output_type": "stream",
          "name": "stdout",
          "text": [
            "Hello this is the first line\n",
            "2nd line\n"
          ]
        }
      ]
    },
    {
      "cell_type": "code",
      "source": [
        "file = open(\"example.txt\",\"r\")\n",
        "print(file.readlines())\n",
        "file.close()"
      ],
      "metadata": {
        "colab": {
          "base_uri": "https://localhost:8080/"
        },
        "id": "2zW20Nw7I_1N",
        "outputId": "538b2c37-c4ba-4de6-925d-62bf46e199c6"
      },
      "execution_count": 10,
      "outputs": [
        {
          "output_type": "stream",
          "name": "stdout",
          "text": [
            "['Hello this is the first line\\n', '2nd line']\n"
          ]
        }
      ]
    },
    {
      "cell_type": "code",
      "source": [
        "#using - with\n",
        "\n",
        "with open(\"example.txt\",\"r\") as file:\n",
        "  for line in file:\n",
        "    print(line.strip())"
      ],
      "metadata": {
        "colab": {
          "base_uri": "https://localhost:8080/"
        },
        "id": "XSvBHgmPJdWM",
        "outputId": "25fdbe36-5c00-49ed-bbda-c4898e6be380"
      },
      "execution_count": 11,
      "outputs": [
        {
          "output_type": "stream",
          "name": "stdout",
          "text": [
            "Hello this is the first line\n",
            "2nd line\n"
          ]
        }
      ]
    },
    {
      "cell_type": "code",
      "source": [
        "with open(\"example.txt\",\"a\") as file:\n",
        "  file.write(\"append\")"
      ],
      "metadata": {
        "id": "8_3BImPlKlVW"
      },
      "execution_count": 12,
      "outputs": []
    },
    {
      "cell_type": "code",
      "source": [
        "# Binary mode\n",
        "\n",
        "with open(\"binary_file.bin\",\"wb\") as f:\n",
        "  f.write(b\"Binary content\")"
      ],
      "metadata": {
        "id": "tJlLOb9eKyx6"
      },
      "execution_count": 14,
      "outputs": []
    },
    {
      "cell_type": "code",
      "source": [
        "with open(\"binary_file.bin\",\"rb\") as f:\n",
        "  print(f.read())"
      ],
      "metadata": {
        "colab": {
          "base_uri": "https://localhost:8080/"
        },
        "id": "8yMjRCfxK1Je",
        "outputId": "2ff3ca3d-7096-46e0-a60d-6bdef34d7eec"
      },
      "execution_count": 15,
      "outputs": [
        {
          "output_type": "stream",
          "name": "stdout",
          "text": [
            "b'Binary content'\n"
          ]
        }
      ]
    },
    {
      "cell_type": "markdown",
      "source": [
        "# OS"
      ],
      "metadata": {
        "id": "PrZtu7ssX7_S"
      }
    },
    {
      "cell_type": "code",
      "source": [
        "import os\n",
        "\n",
        "os.mkdir(\"test_folder\")  #create folder"
      ],
      "metadata": {
        "id": "vbbSmCGuWCuQ"
      },
      "execution_count": 17,
      "outputs": []
    },
    {
      "cell_type": "code",
      "source": [
        "os.makedirs(\"parent/child\", exist_ok=True)  #create nested folder"
      ],
      "metadata": {
        "id": "ERFg6DMmYK02"
      },
      "execution_count": 30,
      "outputs": []
    },
    {
      "cell_type": "code",
      "source": [
        "print(os.listdir(\".\"))   #list current directory contents"
      ],
      "metadata": {
        "colab": {
          "base_uri": "https://localhost:8080/"
        },
        "id": "xDtoAfxoYS9S",
        "outputId": "7aaaa62a-d6d2-43ed-b701-c2526c2c4998"
      },
      "execution_count": 31,
      "outputs": [
        {
          "output_type": "stream",
          "name": "stdout",
          "text": [
            "['.config', 'test_folder', '.ipynb_checkpoints', 'parent', 'example.txt', 'binary_file.bin', 'sample_data']\n"
          ]
        }
      ]
    },
    {
      "cell_type": "code",
      "source": [
        "os.rename(\"parent\",\"guardian\")"
      ],
      "metadata": {
        "id": "Vdj0hd7ZYfq6"
      },
      "execution_count": 32,
      "outputs": []
    },
    {
      "cell_type": "code",
      "source": [
        "print(os.listdir(\".\"))   #list current directory contents"
      ],
      "metadata": {
        "colab": {
          "base_uri": "https://localhost:8080/"
        },
        "id": "j5neKwjcZCjN",
        "outputId": "159dc037-5a08-4554-9e03-29e3ca9aca89"
      },
      "execution_count": 33,
      "outputs": [
        {
          "output_type": "stream",
          "name": "stdout",
          "text": [
            "['.config', 'test_folder', '.ipynb_checkpoints', 'guardian', 'example.txt', 'binary_file.bin', 'sample_data']\n"
          ]
        }
      ]
    },
    {
      "cell_type": "code",
      "source": [
        "# os.remove(\"file.txt\")  #delete file\n",
        "# os.rmdir(\"folder_name\")   #delete folder"
      ],
      "metadata": {
        "id": "9Kq2SYTnZVI0"
      },
      "execution_count": 34,
      "outputs": []
    },
    {
      "cell_type": "markdown",
      "source": [
        "# Shutil"
      ],
      "metadata": {
        "id": "g2cpbf3uZsKe"
      }
    },
    {
      "cell_type": "code",
      "source": [
        "import shutil\n",
        "\n",
        "shutil.copy(\"source.txt\",\"destination.txt\")  # copies content and its permissions\n",
        "\n",
        "shutil.copy2(\"source.txt\", \"destination.txt\") # copies content, permissions and metadata\n",
        "\n",
        "\n",
        "shutil.move(\"file.txt\", \"new_folder/\")  #move file to some folder\n",
        "\n",
        "shutil.rmtree(\"folder\")  # removes non-empty folder\n"
      ],
      "metadata": {
        "id": "4vX47Ko0Zpjo"
      },
      "execution_count": null,
      "outputs": []
    }
  ]
}