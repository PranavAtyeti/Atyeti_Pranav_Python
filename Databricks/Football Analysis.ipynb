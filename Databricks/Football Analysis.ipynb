{
 "cells": [
  {
   "cell_type": "code",
   "execution_count": 0,
   "metadata": {
    "application/vnd.databricks.v1+cell": {
     "cellMetadata": {
      "byteLimit": 2048000,
      "rowLimit": 10000
     },
     "inputWidgets": {},
     "nuid": "6bb90cb4-5426-41bc-a62f-bd0e55438c62",
     "showTitle": false,
     "tableResultSettingsMap": {},
     "title": ""
    }
   },
   "outputs": [],
   "source": [
    "df = spark.read.csv(\"/Volumes/workspace/default/data/club_stats.csv\", header=True, inferSchema=True)\n",
    "\n",
    "df.show(5)\n",
    "df.printSchema()\n"
   ]
  },
  {
   "cell_type": "code",
   "execution_count": 0,
   "metadata": {
    "application/vnd.databricks.v1+cell": {
     "cellMetadata": {
      "byteLimit": 2048000,
      "rowLimit": 10000
     },
     "inputWidgets": {},
     "nuid": "a75ca1ad-55c3-4159-bf17-6569ba284c62",
     "showTitle": false,
     "tableResultSettingsMap": {},
     "title": ""
    }
   },
   "outputs": [],
   "source": [
    "# Top goal Scorers\n",
    "df.orderBy(df.Goals.desc()).select(\"Player\",\"Club\",\"Goals\").show()"
   ]
  },
  {
   "cell_type": "code",
   "execution_count": 0,
   "metadata": {
    "application/vnd.databricks.v1+cell": {
     "cellMetadata": {
      "byteLimit": 2048000,
      "rowLimit": 10000
     },
     "inputWidgets": {},
     "nuid": "fe9a87f4-5b36-4b21-a206-4748c769eafc",
     "showTitle": false,
     "tableResultSettingsMap": {},
     "title": ""
    }
   },
   "outputs": [],
   "source": [
    "# Top Assist Providers\n",
    "\n",
    "df.orderBy(df.Assists.desc()).select(\"Player\",\"Club\",\"Assists\").show()"
   ]
  },
  {
   "cell_type": "code",
   "execution_count": 0,
   "metadata": {
    "application/vnd.databricks.v1+cell": {
     "cellMetadata": {
      "byteLimit": 2048000,
      "rowLimit": 10000
     },
     "inputWidgets": {},
     "nuid": "a9f63103-f9d3-4dc2-84f4-b73c153d9d0a",
     "showTitle": false,
     "tableResultSettingsMap": {},
     "title": ""
    }
   },
   "outputs": [],
   "source": [
    "# Aggressive players with red and yellow cards\n",
    "\n",
    "from pyspark.sql.functions import col, expr\n",
    "df.withColumn(\"Total_Cards\",col(\"Yellow_Cards\") + col(\"Red_Cards\")) \\\n",
    "    .orderBy(col(\"Total_cards\").desc()) \\\n",
    "    .select(\"Player\", \"Club\",\"Total_Cards\") \\\n",
    "    .show()"
   ]
  },
  {
   "cell_type": "code",
   "execution_count": 0,
   "metadata": {
    "application/vnd.databricks.v1+cell": {
     "cellMetadata": {
      "byteLimit": 2048000,
      "rowLimit": 10000
     },
     "inputWidgets": {},
     "nuid": "366b3335-4bcd-4dec-9e9f-84e8074e7036",
     "showTitle": false,
     "tableResultSettingsMap": {},
     "title": ""
    }
   },
   "outputs": [],
   "source": [
    "# Club with most Goals\n",
    "\n",
    "df.groupBy(\"Club\").sum(\"Goals\").orderBy(\"sum(Goals)\", ascending=False).show()"
   ]
  },
  {
   "cell_type": "code",
   "execution_count": 0,
   "metadata": {
    "application/vnd.databricks.v1+cell": {
     "cellMetadata": {
      "byteLimit": 2048000,
      "rowLimit": 10000
     },
     "inputWidgets": {},
     "nuid": "56e3ae98-954c-4ee3-b0e1-68782b8cafed",
     "showTitle": false,
     "tableResultSettingsMap": {},
     "title": ""
    }
   },
   "outputs": [],
   "source": [
    "#Player efficiency score\n",
    "from pyspark.sql.functions import round\n",
    "\n",
    "df.withColumn(\"Efficiency_Score\",round((col(\"Goals\")*4 + col(\"Assists\") * 3 -col(\"Yellow_Cards\") - col(\"Red_Cards\") * 2) / col(\"Matches_Played\"), 2)).orderBy(\"Efficiency_Score\", ascending=False).select(\"Player\", \"Efficiency_Score\").show()"
   ]
  },
  {
   "cell_type": "code",
   "execution_count": 0,
   "metadata": {
    "application/vnd.databricks.v1+cell": {
     "cellMetadata": {
      "byteLimit": 2048000,
      "rowLimit": 10000
     },
     "inputWidgets": {},
     "nuid": "9869b8d8-d8b6-4e21-9ddf-2235beb1df1a",
     "showTitle": false,
     "tableResultSettingsMap": {},
     "title": ""
    }
   },
   "outputs": [],
   "source": [
    "#Club performnace summary\n",
    "\n",
    "df.groupBy(\"Club\").agg(\n",
    "    {\n",
    "        \"Goals\":\"sum\",\"Assists\":\"sum\",\"Yellow_Cards\":\"sum\",\"Red_cards\":\"sum\",\"Matches_Played\": \"sum\"\n",
    "    }\n",
    ").orderBy(\"sum(Goals)\", ascending=False).show()"
   ]
  },
  {
   "cell_type": "code",
   "execution_count": 0,
   "metadata": {
    "application/vnd.databricks.v1+cell": {
     "cellMetadata": {
      "byteLimit": 2048000,
      "rowLimit": 10000
     },
     "inputWidgets": {},
     "nuid": "dc9c69d4-8eb9-4404-a762-7746c0e81a27",
     "showTitle": false,
     "tableResultSettingsMap": {},
     "title": ""
    }
   },
   "outputs": [],
   "source": [
    "# Position Based stats\n",
    "\n",
    "df.groupBy(\"Position\").avg(\"Goals\", \"Assists\", \"Yellow_Cards\", \"Red_Cards\").show()"
   ]
  },
  {
   "cell_type": "code",
   "execution_count": 0,
   "metadata": {
    "application/vnd.databricks.v1+cell": {
     "cellMetadata": {
      "byteLimit": 2048000,
      "rowLimit": 10000
     },
     "inputWidgets": {},
     "nuid": "1dee5de3-0ac9-4bf6-9946-9d2b03fc9393",
     "showTitle": false,
     "tableResultSettingsMap": {},
     "title": ""
    }
   },
   "outputs": [],
   "source": [
    "#Top Consistent Players\n",
    "\n",
    "df.withColumn(\"Goals_Per_Match\", round(col(\"Goals\") / col(\"Matches_Played\"), 2)) \\\n",
    "    .orderBy(\"Goals_Per_match\", ascending=False) \\\n",
    "    .select(\"Player\", \"Goals\", \"Matches_Played\", \"Goals_Per_Match\") \\\n",
    "    .show()"
   ]
  },
  {
   "cell_type": "code",
   "execution_count": 0,
   "metadata": {
    "application/vnd.databricks.v1+cell": {
     "cellMetadata": {
      "byteLimit": 2048000,
      "rowLimit": 10000
     },
     "inputWidgets": {},
     "nuid": "4eaaea1e-a1af-4eb0-a2d9-54f3f10d9857",
     "showTitle": false,
     "tableResultSettingsMap": {},
     "title": ""
    }
   },
   "outputs": [],
   "source": [
    "#Cards per match ratio\n",
    "\n",
    "df.withColumn(\"Aggressiveness_Score\",\n",
    "              round((col(\"Yellow_Cards\") + col(\"Red_Cards\"))  / col(\"Matches_Played\"), 2)\n",
    "    ).orderBy(\"Aggressiveness_score\",ascending=False).select(\"Player\", \"Aggressiveness_Score\").show()"
   ]
  },
  {
   "cell_type": "code",
   "execution_count": 0,
   "metadata": {
    "application/vnd.databricks.v1+cell": {
     "cellMetadata": {},
     "inputWidgets": {},
     "nuid": "ae2e51bf-ba27-4ce0-aff3-052a23e774f6",
     "showTitle": false,
     "tableResultSettingsMap": {},
     "title": ""
    }
   },
   "outputs": [],
   "source": []
  }
 ],
 "metadata": {
  "application/vnd.databricks.v1+notebook": {
   "computePreferences": null,
   "dashboards": [],
   "environmentMetadata": {
    "base_environment": "",
    "environment_version": "2"
   },
   "inputWidgetPreferences": null,
   "language": "python",
   "notebookMetadata": {
    "pythonIndentUnit": 4
   },
   "notebookName": "Football Analysis",
   "widgets": {}
  },
  "language_info": {
   "name": "python"
  }
 },
 "nbformat": 4,
 "nbformat_minor": 0
}
