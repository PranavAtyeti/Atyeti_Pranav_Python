{
 "cells": [
  {
   "cell_type": "code",
   "execution_count": 0,
   "metadata": {
    "application/vnd.databricks.v1+cell": {
     "cellMetadata": {
      "byteLimit": 2048000,
      "rowLimit": 10000
     },
     "inputWidgets": {},
     "nuid": "b70331b4-9ace-4d91-93e3-7b4a62a4df6a",
     "showTitle": false,
     "tableResultSettingsMap": {},
     "title": ""
    }
   },
   "outputs": [],
   "source": [
    "movies_df = spark.read.csv(\"/Volumes/workspace/default/data/movies.csv\", header = True, inferSchema = True)\n",
    "ratings_df = spark.read.csv(\"/Volumes/workspace/default/data/ratings.csv\",header = True, inferSchema = True)\n",
    "tags_df = spark.read.csv(\"/Volumes/workspace/default/data/tags.csv\",header = True, inferSchema = True)\n",
    "\n",
    "movies_df.printSchema()\n",
    "ratings_df.printSchema()\n",
    "tags_df.printSchema()"
   ]
  },
  {
   "cell_type": "code",
   "execution_count": 0,
   "metadata": {
    "application/vnd.databricks.v1+cell": {
     "cellMetadata": {
      "byteLimit": 2048000,
      "rowLimit": 10000
     },
     "inputWidgets": {},
     "nuid": "eb4755af-9efb-4bc7-9ee1-0f337318e708",
     "showTitle": false,
     "tableResultSettingsMap": {},
     "title": ""
    }
   },
   "outputs": [],
   "source": [
    "# Top Highly rated movies with at least 50 ratings\n",
    "\n",
    "from pyspark.sql.functions import count, avg, desc\n",
    "\n",
    "movie_ratings = ratings_df.join(movies_df, on='movieId')\n",
    "\n",
    "movie_stats = movie_ratings.groupBy(\"title\").agg(\n",
    "    count(\"rating\").alias(\"num_ratings\"),\n",
    "    avg(\"rating\").alias(\"avg_rating\")\n",
    ")\n",
    "\n",
    "top_movies = movie_stats.filter(\"num_ratings >= 50\").orderBy(desc(\"avg_rating\"))\n",
    "\n",
    "top_movies.show(10, truncate=False)\n"
   ]
  },
  {
   "cell_type": "code",
   "execution_count": 0,
   "metadata": {
    "application/vnd.databricks.v1+cell": {
     "cellMetadata": {
      "byteLimit": 2048000,
      "rowLimit": 10000
     },
     "inputWidgets": {},
     "nuid": "aa64a7de-3724-4681-8a78-ac499631494f",
     "showTitle": false,
     "tableResultSettingsMap": {},
     "title": ""
    }
   },
   "outputs": [],
   "source": [
    "# most rated movies\n",
    "\n",
    "most_rated = movie_stats.orderBy(desc(\"num_ratings\"))\n",
    "most_rated.show(10, truncate = False)"
   ]
  },
  {
   "cell_type": "code",
   "execution_count": 0,
   "metadata": {
    "application/vnd.databricks.v1+cell": {
     "cellMetadata": {
      "byteLimit": 2048000,
      "rowLimit": 10000
     },
     "inputWidgets": {},
     "nuid": "a8af2372-05c6-4600-8f7c-4876fb6e420f",
     "showTitle": false,
     "tableResultSettingsMap": {},
     "title": ""
    }
   },
   "outputs": [],
   "source": [
    "#Ratings Distribution\n",
    "\n",
    "import pandas as pd\n",
    "import matplotlib.pyplot as plt\n",
    "\n",
    "rating_counts = ratings_df.select(\"rating\").groupBy(\"rating\").count().orderBy(\"rating\").toPandas()\n",
    "\n",
    "plt.figure(figsize=(8,5))\n",
    "plt.bar(rating_counts[\"rating\"], rating_counts[\"count\"], width=0.3)\n",
    "plt.xlabel(\"Rating\")\n",
    "plt.ylabel(\"Count\")\n",
    "plt.title(\"Ratings Distribution\")\n",
    "plt.grid(True)\n",
    "plt.show()"
   ]
  },
  {
   "cell_type": "code",
   "execution_count": 0,
   "metadata": {
    "application/vnd.databricks.v1+cell": {
     "cellMetadata": {
      "byteLimit": 2048000,
      "rowLimit": 10000
     },
     "inputWidgets": {},
     "nuid": "9bb67508-20f2-43c1-be59-107399f339fe",
     "showTitle": false,
     "tableResultSettingsMap": {},
     "title": ""
    }
   },
   "outputs": [],
   "source": [
    "# Average rating per Genre\n",
    "\n",
    "from pyspark.sql.functions import split, explode, trim\n",
    "\n",
    "movies_with_genres = movies_df.withColumn(\"genre\", explode(split(\"genres\",\"\\\\|\")))\n",
    "\n",
    "genre_ratings = ratings_df.join(movies_with_genres, on = \"movieId\")\n",
    "\n",
    "avg_genre_ratings = genre_ratings.groupBy(\"genre\").agg(avg(\"rating\").alias(\"avg_rating\")).orderBy(desc(\"avg_rating\"))\n",
    "\n",
    "avg_genre_ratings.show()"
   ]
  },
  {
   "cell_type": "code",
   "execution_count": 0,
   "metadata": {
    "application/vnd.databricks.v1+cell": {
     "cellMetadata": {
      "byteLimit": 2048000,
      "rowLimit": 10000
     },
     "inputWidgets": {},
     "nuid": "7020f668-1520-43c0-a292-6c1951545e14",
     "showTitle": false,
     "tableResultSettingsMap": {},
     "title": ""
    }
   },
   "outputs": [],
   "source": [
    "movies_df.write.mode(\"overwrite\").format(\"delta\").saveAsTable(\"movielens.movies\")\n",
    "ratings_df.write.mode(\"overwrite\").format(\"delta\").saveAsTable(\"movielens.ratings\")\n",
    "tags_df.write.mode(\"overwrite\").format(\"delta\").saveAsTable(\"movielens.tags\")"
   ]
  },
  {
   "cell_type": "code",
   "execution_count": 0,
   "metadata": {
    "application/vnd.databricks.v1+cell": {
     "cellMetadata": {},
     "inputWidgets": {},
     "nuid": "9bc89a96-af00-4914-983e-8888d2df7c3f",
     "showTitle": false,
     "tableResultSettingsMap": {},
     "title": ""
    }
   },
   "outputs": [],
   "source": []
  }
 ],
 "metadata": {
  "application/vnd.databricks.v1+notebook": {
   "computePreferences": null,
   "dashboards": [],
   "environmentMetadata": {
    "base_environment": "",
    "environment_version": "2"
   },
   "inputWidgetPreferences": null,
   "language": "python",
   "notebookMetadata": {
    "pythonIndentUnit": 4
   },
   "notebookName": "Movie_Analysis",
   "widgets": {}
  },
  "language_info": {
   "name": "python"
  }
 },
 "nbformat": 4,
 "nbformat_minor": 0
}
