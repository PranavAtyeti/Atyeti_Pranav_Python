{
  "nbformat": 4,
  "nbformat_minor": 0,
  "metadata": {
    "colab": {
      "provenance": [],
      "authorship_tag": "ABX9TyNROaKvSAiIkbHzOOV+uyx3",
      "include_colab_link": true
    },
    "kernelspec": {
      "name": "python3",
      "display_name": "Python 3"
    },
    "language_info": {
      "name": "python"
    }
  },
  "cells": [
    {
      "cell_type": "markdown",
      "metadata": {
        "id": "view-in-github",
        "colab_type": "text"
      },
      "source": [
        "<a href=\"https://colab.research.google.com/github/PranavAtyeti/Atyeti_Pranav_Python/blob/main/Libraries_II.ipynb\" target=\"_parent\"><img src=\"https://colab.research.google.com/assets/colab-badge.svg\" alt=\"Open In Colab\"/></a>"
      ]
    },
    {
      "cell_type": "markdown",
      "source": [
        "# Requests\n"
      ],
      "metadata": {
        "id": "6PJ4ZsigCzR1"
      }
    },
    {
      "cell_type": "code",
      "execution_count": 4,
      "metadata": {
        "colab": {
          "base_uri": "https://localhost:8080/"
        },
        "id": "Ee5AL0siBAHZ",
        "outputId": "94e53127-93c1-4157-8604-7ba7bf08b61c"
      },
      "outputs": [
        {
          "output_type": "stream",
          "name": "stdout",
          "text": [
            "200\n",
            "{'userId': 1, 'id': 1, 'title': 'sunt aut facere repellat provident occaecati excepturi optio reprehenderit', 'body': 'quia et suscipit\\nsuscipit recusandae consequuntur expedita et cum\\nreprehenderit molestiae ut ut quas totam\\nnostrum rerum est autem sunt rem eveniet architecto'}\n"
          ]
        }
      ],
      "source": [
        "import requests\n",
        "\n",
        "response = requests.get(\"https://jsonplaceholder.typicode.com/posts/1\")\n",
        "print(response.status_code)\n",
        "print(response.json())"
      ]
    },
    {
      "cell_type": "code",
      "source": [
        "payload = {\"title\": \"foo\",\"body\":\"bar\",\"userId\":1}\n",
        "response = requests.post(\"https://jsonplaceholder.typicode.com/posts\",json=payload)\n",
        "print(response.json())"
      ],
      "metadata": {
        "colab": {
          "base_uri": "https://localhost:8080/"
        },
        "id": "nmmiHSsvD29Z",
        "outputId": "b14693df-67bd-4598-8b77-7303e485089f"
      },
      "execution_count": 5,
      "outputs": [
        {
          "output_type": "stream",
          "name": "stdout",
          "text": [
            "{'title': 'foo', 'body': 'bar', 'userId': 1, 'id': 101}\n"
          ]
        }
      ]
    },
    {
      "cell_type": "markdown",
      "source": [
        "# Json, CSV"
      ],
      "metadata": {
        "id": "3VmLYGogC4Kz"
      }
    },
    {
      "cell_type": "code",
      "source": [
        "import json\n",
        "import csv\n",
        "with open(\"/content/users.json\",\"r\") as json_file:\n",
        "  users = json.load(json_file)\n",
        "\n",
        "  print('Json data : ')\n",
        "  for user in users:print(user)"
      ],
      "metadata": {
        "colab": {
          "base_uri": "https://localhost:8080/"
        },
        "id": "f3HeS4_4C9oO",
        "outputId": "cd4f7003-bc44-4ad9-b4bb-160a10094305"
      },
      "execution_count": 5,
      "outputs": [
        {
          "output_type": "stream",
          "name": "stdout",
          "text": [
            "Json data : \n",
            "{'name': 'Alice', 'age': 25, 'email': 'alice@example.com'}\n",
            "{'name': 'Bob', 'age': 30, 'email': 'bob@example.com'}\n",
            "{'name': 'Charlie', 'age': 22, 'email': 'charlie@example.com'}\n"
          ]
        }
      ]
    },
    {
      "cell_type": "code",
      "source": [
        "csv_file_path=\"/content/users.csv\"\n",
        "\n",
        "with open(csv_file_path,\"w\", newline=\"\") as csv_file:\n",
        "  fieldnames = [\"name\",\"age\",\"email\"]\n",
        "  writer =csv.DictWriter(csv_file, fieldnames=fieldnames)\n",
        "\n",
        "  writer.writeheader()\n",
        "  for user in users:\n",
        "    writer.writerow(user)\n",
        "\n",
        "print(f\"\\nData written to csv file: {csv_file_path}\")\n",
        "\n",
        "print(\"\\nReading data back from Csv: \")\n",
        "\n",
        "with open(csv_file_path,\"r\") as file:\n",
        "  reader = csv.DictReader(file)\n",
        "\n",
        "  for row in reader:\n",
        "    print(dict(row))"
      ],
      "metadata": {
        "colab": {
          "base_uri": "https://localhost:8080/"
        },
        "id": "snlQRAJXi8kA",
        "outputId": "6e12d969-d6f7-4e1e-ddbb-4cf296adb5f3"
      },
      "execution_count": 7,
      "outputs": [
        {
          "output_type": "stream",
          "name": "stdout",
          "text": [
            "\n",
            "Data written to csv file: /content/users.csv\n",
            "\n",
            "Reading data back from Csv: \n",
            "{'name': 'Alice', 'age': '25', 'email': 'alice@example.com'}\n",
            "{'name': 'Bob', 'age': '30', 'email': 'bob@example.com'}\n",
            "{'name': 'Charlie', 'age': '22', 'email': 'charlie@example.com'}\n"
          ]
        }
      ]
    },
    {
      "cell_type": "markdown",
      "source": [
        "# Regex"
      ],
      "metadata": {
        "id": "P0V0EOReC-qW"
      }
    },
    {
      "cell_type": "code",
      "source": [
        "import re\n",
        "\n",
        "text = \"My email is test@example.com and my phone is 9897969798,9898989898 join@go.in\"\n",
        "\n",
        "email = re.findall(r\"[a-zAiZ0-9_.+-]+@[a-zA-Z0-9-]+\\.[a-zA-Z0-9-.]+\", text)\n",
        "print(\"Email found: \", email)\n",
        "\n",
        "digits = re.findall(r\"\\b\\d{10}\\b\", text)\n",
        "print(\"Numbers found: \",digits)"
      ],
      "metadata": {
        "colab": {
          "base_uri": "https://localhost:8080/"
        },
        "id": "3LbkVQ4eDAf4",
        "outputId": "2628f54b-606a-4465-b25f-53972dcbb8d6"
      },
      "execution_count": 13,
      "outputs": [
        {
          "output_type": "stream",
          "name": "stdout",
          "text": [
            "Email found:  ['test@example.com', 'join@go.in']\n",
            "Numbers found:  ['9897969798', '9898989898']\n"
          ]
        }
      ]
    },
    {
      "cell_type": "code",
      "source": [],
      "metadata": {
        "id": "HfxleE8DlxZ4"
      },
      "execution_count": null,
      "outputs": []
    }
  ]
}