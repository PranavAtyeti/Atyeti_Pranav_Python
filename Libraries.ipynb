{
  "nbformat": 4,
  "nbformat_minor": 0,
  "metadata": {
    "colab": {
      "provenance": [],
      "authorship_tag": "ABX9TyP9/+JHGhmpiZ4Dg9NDr6wF",
      "include_colab_link": true
    },
    "kernelspec": {
      "name": "python3",
      "display_name": "Python 3"
    },
    "language_info": {
      "name": "python"
    }
  },
  "cells": [
    {
      "cell_type": "markdown",
      "metadata": {
        "id": "view-in-github",
        "colab_type": "text"
      },
      "source": [
        "<a href=\"https://colab.research.google.com/github/PranavAtyeti/py_practice/blob/main/Libraries.ipynb\" target=\"_parent\"><img src=\"https://colab.research.google.com/assets/colab-badge.svg\" alt=\"Open In Colab\"/></a>"
      ]
    },
    {
      "cell_type": "code",
      "execution_count": 4,
      "metadata": {
        "colab": {
          "base_uri": "https://localhost:8080/"
        },
        "id": "ybgrkTNPS9T-",
        "outputId": "0eecb8cb-5fb2-48b8-e807-75d891c001a7"
      },
      "outputs": [
        {
          "output_type": "stream",
          "name": "stdout",
          "text": [
            "16\n",
            "15\n",
            "15\n",
            "True\n"
          ]
        }
      ],
      "source": [
        "#Maths\n",
        "\n",
        "import math\n",
        "lst = [math.ceil, math.floor, math.trunc, math.isfinite]\n",
        "\n",
        "for i in lst:\n",
        "  print(i(15.15))"
      ]
    },
    {
      "cell_type": "code",
      "source": [
        "#datetime\n",
        "\n",
        "from datetime import date\n",
        "\n",
        "def calculate_age(birth_date):\n",
        "  today = date.today()\n",
        "  age = today.year - birth_date.year - ((today.month, today.day) < (birth_date.month, birth_date.day))\n",
        "  return age\n",
        "\n",
        "birth_date = input(\"Enter birth date in format YYYY-MM-DD format :\")\n",
        "year, month, day = map(int, birth_date.split('-'))\n",
        "\n",
        "birth_date = date(year, month, day)\n",
        "age = calculate_age(birth_date)\n",
        "\n",
        "print(\"Age is \", age)"
      ],
      "metadata": {
        "colab": {
          "base_uri": "https://localhost:8080/"
        },
        "id": "Aw-VlWH8VHBY",
        "outputId": "dc7d2ee5-633d-4ce1-b7f2-05ddab0341ee"
      },
      "execution_count": 6,
      "outputs": [
        {
          "output_type": "stream",
          "name": "stdout",
          "text": [
            "Enter birth date in format YYYY-MM-DD format :2002-07-02\n",
            "Age is  22\n"
          ]
        }
      ]
    },
    {
      "cell_type": "code",
      "source": [
        "#random\n",
        "\n",
        "#used methods like randint, choice, sample\n",
        "\n",
        "import random\n",
        "random_int = random.randint(1,15)\n",
        "print(random_int)\n",
        "\n",
        "lst1 = [1,3,5,7,9]\n",
        "random_ele  =random.choice(lst1)\n",
        "print(random_ele)\n",
        "\n",
        "print(random.sample(lst1,3))"
      ],
      "metadata": {
        "colab": {
          "base_uri": "https://localhost:8080/"
        },
        "id": "LiJVXVTMVG97",
        "outputId": "a46c6464-a705-4a81-9b97-751460be0542"
      },
      "execution_count": 14,
      "outputs": [
        {
          "output_type": "stream",
          "name": "stdout",
          "text": [
            "13\n",
            "7\n",
            "[9, 5, 7]\n"
          ]
        }
      ]
    },
    {
      "cell_type": "code",
      "source": [],
      "metadata": {
        "id": "4sglbAwEVGpT"
      },
      "execution_count": null,
      "outputs": []
    }
  ]
}