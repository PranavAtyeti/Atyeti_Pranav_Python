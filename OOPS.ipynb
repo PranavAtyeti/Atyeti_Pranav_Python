{
  "nbformat": 4,
  "nbformat_minor": 0,
  "metadata": {
    "colab": {
      "provenance": [],
      "authorship_tag": "ABX9TyPTZ85mIr/CQCAS+UJxX7Ya",
      "include_colab_link": true
    },
    "kernelspec": {
      "name": "python3",
      "display_name": "Python 3"
    },
    "language_info": {
      "name": "python"
    }
  },
  "cells": [
    {
      "cell_type": "markdown",
      "metadata": {
        "id": "view-in-github",
        "colab_type": "text"
      },
      "source": [
        "<a href=\"https://colab.research.google.com/github/PranavAtyeti/py_practice/blob/main/OOPS.ipynb\" target=\"_parent\"><img src=\"https://colab.research.google.com/assets/colab-badge.svg\" alt=\"Open In Colab\"/></a>"
      ]
    },
    {
      "cell_type": "markdown",
      "source": [
        "Classes/Objects: Basics of OOP.\n",
        "\n",
        "Constructor: __init__ method.\n",
        "\n",
        "Instance/Class Variables: Differences and use cases.\n",
        "\n",
        "Inheritance: Single and multi-level.\n",
        "\n",
        "Polymorphism: Method overriding.\n",
        "\n",
        "Encapsulation: Private variables and methods.\n",
        "\n",
        "Dunder Methods: __str__, __len__, etc.\n",
        "\n"
      ],
      "metadata": {
        "id": "Vw_a--SqDfLe"
      }
    },
    {
      "cell_type": "markdown",
      "source": [
        "# Oops"
      ],
      "metadata": {
        "id": "A3OrHThJElO7"
      }
    },
    {
      "cell_type": "code",
      "execution_count": null,
      "metadata": {
        "colab": {
          "base_uri": "https://localhost:8080/"
        },
        "id": "JFQSAfiu8X7k",
        "outputId": "f8801f86-70b8-41b9-d044-80cc7e84cd53"
      },
      "outputs": [
        {
          "output_type": "stream",
          "name": "stdout",
          "text": [
            "max\n",
            "max woof\n",
            "4\n"
          ]
        }
      ],
      "source": [
        "class Dog:\n",
        "  species_class = \"mammalia\"  #class attribures, defined outside init common for all objects\n",
        "\n",
        "  def __init__(self, name, age):  #constructor, unique to each object\n",
        "    self.name = name   #Instance attributes\n",
        "    self.age = age\n",
        "\n",
        "  def bark(self):  #method\n",
        "    return f\"{self.name} woof\"\n",
        "\n",
        "dog = Dog(\"max\", 4) #creating a object\n",
        "\n",
        "print(dog.name)\n",
        "print(dog.bark())\n",
        "print(dog.age)"
      ]
    },
    {
      "cell_type": "markdown",
      "source": [
        "# Inheritance"
      ],
      "metadata": {
        "id": "VmPgCfjOHBEA"
      }
    },
    {
      "cell_type": "code",
      "source": [
        "#single inheritance\n",
        "\n",
        "class Animal:\n",
        "\n",
        "  def speak(self):\n",
        "    return \"Animal Speaks\"\n",
        "\n",
        "class Dog(Animal):  #single inheritance\n",
        "  def bark(self):\n",
        "    return \"Dog barks\"\n",
        "\n",
        "d = Dog()\n",
        "\n",
        "print(d.speak())  #we can reuse methods from derived class as well as parent class\n",
        "print(d.bark())"
      ],
      "metadata": {
        "colab": {
          "base_uri": "https://localhost:8080/"
        },
        "id": "JrEl_0ZjGbTc",
        "outputId": "8e2c5627-0ac2-497f-9de1-2a01f7c08f66"
      },
      "execution_count": null,
      "outputs": [
        {
          "output_type": "stream",
          "name": "stdout",
          "text": [
            "Animal Speaks\n",
            "Dog barks\n"
          ]
        }
      ]
    },
    {
      "cell_type": "code",
      "source": [
        "#multi-level inheritance\n",
        "\n",
        "class Animal: #parent level 1\n",
        "\n",
        "  def speak(self):\n",
        "    return \"A animal speak\"\n",
        "\n",
        "class mammal(Animal):  #derived mid level\n",
        "  def feed_babies(self):\n",
        "    return \"Feed babies milk\"\n",
        "\n",
        "class Human(mammal): # derived last level\n",
        "  def speaks(self):\n",
        "    return \"Human speaks\"\n",
        "\n",
        "h = Human()\n",
        "\n",
        "print(h.speaks())\n",
        "print(h.feed_babies())\n",
        "print(h.speak())\n"
      ],
      "metadata": {
        "colab": {
          "base_uri": "https://localhost:8080/"
        },
        "id": "I7B4g2hqHHMU",
        "outputId": "cef83e5c-800c-4246-c248-ded1aa588e7e"
      },
      "execution_count": null,
      "outputs": [
        {
          "output_type": "stream",
          "name": "stdout",
          "text": [
            "Human speaks\n",
            "Feed babies milk\n",
            "A animal speak\n"
          ]
        }
      ]
    },
    {
      "cell_type": "markdown",
      "source": [
        "# Polymorphism"
      ],
      "metadata": {
        "id": "zrz1ncBgcyxF"
      }
    },
    {
      "cell_type": "code",
      "source": [
        "class Animal:\n",
        "  def speak(self):\n",
        "    return \"speak\"\n",
        "\n",
        "class Dog(Animal):\n",
        "  def speak(self):\n",
        "    return  \"Bark\"\n",
        "\n",
        "class Cat(Animal):\n",
        "  def speak(self):\n",
        "    return \"Meow\"\n",
        "\n",
        "print(Animal().speak())  #The method speak is overloaded in all derived classes as it performs similiar functions\n",
        "print(Dog().speak())\n",
        "print(Cat().speak())"
      ],
      "metadata": {
        "colab": {
          "base_uri": "https://localhost:8080/"
        },
        "id": "GiN0BWPwHJOO",
        "outputId": "f471f46f-61db-40f5-e495-af8044df5cad"
      },
      "execution_count": null,
      "outputs": [
        {
          "output_type": "stream",
          "name": "stdout",
          "text": [
            "speak\n",
            "Bark\n",
            "Meow\n"
          ]
        }
      ]
    },
    {
      "cell_type": "markdown",
      "source": [
        "# Encapsulation"
      ],
      "metadata": {
        "id": "YSc5FjXoftUS"
      }
    },
    {
      "cell_type": "code",
      "source": [
        "class BankAccount:\n",
        "\n",
        "  def __init__(self,name,balance):\n",
        "    self.name = name\n",
        "    self.__balance = balance  # Private variable\n",
        "    print(f\"Account created successfully for {name}\")\n",
        "\n",
        "  def deposit(self,amount):\n",
        "    self.__balance += amount\n",
        "    print(f\"${amount} Deposited successfully\")\n",
        "\n",
        "  def __applyFee(self):   # Private method\n",
        "    self.__balance -= 2\n",
        "\n",
        "  def get_balance(self):\n",
        "    self.__applyFee()\n",
        "    return self.__balance\n",
        "\n",
        "acc1 = BankAccount(\"Pranav\", 10500)\n",
        "acc1.deposit(500)\n",
        "print(f\"Balance: ${acc1.get_balance()}\")"
      ],
      "metadata": {
        "colab": {
          "base_uri": "https://localhost:8080/"
        },
        "id": "7ILvTsTQeRPV",
        "outputId": "80d1c6b6-6a54-4525-e721-b943bdbca43e"
      },
      "execution_count": null,
      "outputs": [
        {
          "output_type": "stream",
          "name": "stdout",
          "text": [
            "Account created successfully for Pranav\n",
            "$500 Deposited successfully\n",
            "Balance: $10998\n"
          ]
        }
      ]
    },
    {
      "cell_type": "markdown",
      "source": [
        "# Dunder Methods"
      ],
      "metadata": {
        "id": "JgdL7ncL5JaN"
      }
    },
    {
      "cell_type": "code",
      "source": [
        "class Person:\n",
        "  def __init__(self, name):\n",
        "    self.name = name\n",
        "\n",
        "  def __str_(self):\n",
        "    return f\"Hi Person({self.name})\"\n",
        "\n",
        "P = Person(\"Pranav\")\n",
        "print(P)"
      ],
      "metadata": {
        "id": "S_WR78dgj2D-",
        "colab": {
          "base_uri": "https://localhost:8080/"
        },
        "outputId": "e3757f8b-ff04-4c2d-8e58-3439b6e96c8b"
      },
      "execution_count": null,
      "outputs": [
        {
          "output_type": "stream",
          "name": "stdout",
          "text": [
            "<__main__.Person object at 0x78bff23b3f10>\n"
          ]
        }
      ]
    },
    {
      "cell_type": "code",
      "source": [
        "print(dir(int))"
      ],
      "metadata": {
        "colab": {
          "base_uri": "https://localhost:8080/"
        },
        "id": "4TzCGthMO2yW",
        "outputId": "db2d6e80-5fce-4061-fddd-004301f087ed"
      },
      "execution_count": null,
      "outputs": [
        {
          "output_type": "stream",
          "name": "stdout",
          "text": [
            "['__abs__', '__add__', '__and__', '__bool__', '__ceil__', '__class__', '__delattr__', '__dir__', '__divmod__', '__doc__', '__eq__', '__float__', '__floor__', '__floordiv__', '__format__', '__ge__', '__getattribute__', '__getnewargs__', '__getstate__', '__gt__', '__hash__', '__index__', '__init__', '__init_subclass__', '__int__', '__invert__', '__le__', '__lshift__', '__lt__', '__mod__', '__mul__', '__ne__', '__neg__', '__new__', '__or__', '__pos__', '__pow__', '__radd__', '__rand__', '__rdivmod__', '__reduce__', '__reduce_ex__', '__repr__', '__rfloordiv__', '__rlshift__', '__rmod__', '__rmul__', '__ror__', '__round__', '__rpow__', '__rrshift__', '__rshift__', '__rsub__', '__rtruediv__', '__rxor__', '__setattr__', '__sizeof__', '__str__', '__sub__', '__subclasshook__', '__truediv__', '__trunc__', '__xor__', 'as_integer_ratio', 'bit_count', 'bit_length', 'conjugate', 'denominator', 'from_bytes', 'imag', 'numerator', 'real', 'to_bytes']\n"
          ]
        }
      ]
    },
    {
      "cell_type": "code",
      "source": [],
      "metadata": {
        "id": "DmowQFxSPSTr"
      },
      "execution_count": null,
      "outputs": []
    }
  ]
}