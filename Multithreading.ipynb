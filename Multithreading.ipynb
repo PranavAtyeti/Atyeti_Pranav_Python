{
  "nbformat": 4,
  "nbformat_minor": 0,
  "metadata": {
    "colab": {
      "provenance": [],
      "authorship_tag": "ABX9TyPzwbMO2cbri+quPJPyMn8Y",
      "include_colab_link": true
    },
    "kernelspec": {
      "name": "python3",
      "display_name": "Python 3"
    },
    "language_info": {
      "name": "python"
    }
  },
  "cells": [
    {
      "cell_type": "markdown",
      "metadata": {
        "id": "view-in-github",
        "colab_type": "text"
      },
      "source": [
        "<a href=\"https://colab.research.google.com/github/PranavAtyeti/Atyeti_Pranav_Python/blob/main/Multithreading.ipynb\" target=\"_parent\"><img src=\"https://colab.research.google.com/assets/colab-badge.svg\" alt=\"Open In Colab\"/></a>"
      ]
    },
    {
      "cell_type": "markdown",
      "source": [
        "1. Write a program to create and start a thread that prints numbers from 1 to 10.\n",
        "2. Write a program to create two threads: one to print even numbers and another to print odd numbers.\n",
        "3. Write a program to demonstrate the use of `join` method in threads.\n",
        "4. Write a program to demonstrate the use of `Lock` to synchronize threads.\n",
        "5. Write a program to create a thread pool using `ThreadPoolExecutor` and execute multiple tasks."
      ],
      "metadata": {
        "id": "6FdfzYUdwI66"
      }
    },
    {
      "cell_type": "code",
      "execution_count": null,
      "metadata": {
        "colab": {
          "base_uri": "https://localhost:8080/"
        },
        "id": "VC2SYjKZuoXN",
        "outputId": "e18d0ef6-ea37-4017-b0b2-39dbfb344c12"
      },
      "outputs": [
        {
          "output_type": "stream",
          "name": "stdout",
          "text": [
            "1\n",
            "2\n",
            "3\n",
            "4\n",
            "5\n",
            "6\n",
            "7\n",
            "8\n",
            "9\n",
            "10\n"
          ]
        }
      ],
      "source": [
        "import threading\n",
        "\n",
        "def print_numbers():\n",
        "    for i in range(1, 11):\n",
        "        print(i)\n",
        "\n",
        "thread = threading.Thread(target=print_numbers)\n",
        "thread.start()\n",
        "thread.join()"
      ]
    },
    {
      "cell_type": "code",
      "source": [
        "def process_nums():\n",
        "  current_thread_name = threading.current_thread().name\n",
        "\n",
        "  for i in range(21):\n",
        "    if (i%2) ==\n",
        "\n",
        "  if current_thread_name == \"even_thread\":\n",
        "    for i in range(0, 20, 2):\n",
        "      print(f\"{current_thread_name}: {i}\")\n",
        "  elif current_thread_name == \"odd_thread\":\n",
        "    for i in range(1, 20, 2):\n",
        "      print(f\"{current_thread_name}: {i}\")\n",
        "\n",
        "thread1 = threading.Thread(target = process_nums, name=\"even_thread\")\n",
        "thread2 = threading.Thread(target = process_nums, name=\"odd_thread\")\n",
        "\n",
        "\n",
        "thread1.start()\n",
        "thread1.join()\n",
        "\n",
        "\n",
        "thread2.start()\n",
        "thread2.join()"
      ],
      "metadata": {
        "colab": {
          "base_uri": "https://localhost:8080/"
        },
        "id": "Ws3DagPqwghE",
        "outputId": "d4a19ae6-0ca9-44f1-99ef-7b7824833a03"
      },
      "execution_count": null,
      "outputs": [
        {
          "output_type": "stream",
          "name": "stdout",
          "text": [
            "even_thread: 0\n",
            "even_thread: 2\n",
            "even_thread: 4\n",
            "even_thread: 6\n",
            "even_thread: 8\n",
            "even_thread: 10\n",
            "even_thread: 12\n",
            "even_thread: 14\n",
            "even_thread: 16\n",
            "even_thread: 18\n",
            "odd_thread: 1\n",
            "odd_thread: 3\n",
            "odd_thread: 5\n",
            "odd_thread: 7\n",
            "odd_thread: 9\n",
            "odd_thread: 11\n",
            "odd_thread: 13\n",
            "odd_thread: 15\n",
            "odd_thread: 17\n",
            "odd_thread: 19\n"
          ]
        }
      ]
    },
    {
      "cell_type": "code",
      "source": [
        "import threading\n",
        "\n",
        "lock = threading.Lock()\n",
        "num = 0\n",
        "\n",
        "def print_even():\n",
        "    global num\n",
        "    while num <= 20:\n",
        "        with lock:\n",
        "            if num % 2 == 0:\n",
        "                print(f\"Even Thread: {num}\")\n",
        "                num += 1\n",
        "\n",
        "def print_odd():\n",
        "    global num\n",
        "    while num <= 20:\n",
        "        with lock:\n",
        "            if num % 2 == 1:\n",
        "                print(f\"Odd Thread: {num}\")\n",
        "                num += 1\n",
        "\n",
        "even_thread = threading.Thread(target=print_even)\n",
        "odd_thread = threading.Thread(target=print_odd)\n",
        "\n",
        "even_thread.start()\n",
        "odd_thread.start()\n",
        "\n",
        "even_thread.join()\n",
        "odd_thread.join()"
      ],
      "metadata": {
        "colab": {
          "base_uri": "https://localhost:8080/"
        },
        "id": "z3f0pohV0NMp",
        "outputId": "02f4ab83-9bb7-4a14-c689-1c7abb7093e1"
      },
      "execution_count": null,
      "outputs": [
        {
          "output_type": "stream",
          "name": "stdout",
          "text": [
            "Even Thread: 0\n",
            "Odd Thread: 1\n",
            "Even Thread: 2\n",
            "Odd Thread: 3\n",
            "Even Thread: 4\n",
            "Odd Thread: 5\n",
            "Even Thread: 6\n",
            "Odd Thread: 7\n",
            "Even Thread: 8\n",
            "Odd Thread: 9\n",
            "Even Thread: 10\n",
            "Odd Thread: 11\n",
            "Even Thread: 12\n",
            "Odd Thread: 13\n",
            "Even Thread: 14\n",
            "Odd Thread: 15\n",
            "Even Thread: 16\n",
            "Odd Thread: 17\n",
            "Even Thread: 18\n",
            "Odd Thread: 19\n",
            "Even Thread: 20\n",
            "Done.\n"
          ]
        }
      ]
    },
    {
      "cell_type": "code",
      "source": [
        "import threading\n",
        "import time\n",
        "\n",
        "def print_numbers():\n",
        "    for i in range(1, 11):\n",
        "        print(i)\n",
        "\n",
        "d_thread = threading.Thread(target=print_numbers, daemon=True)\n",
        "d_thread.start()"
      ],
      "metadata": {
        "colab": {
          "base_uri": "https://localhost:8080/"
        },
        "id": "jeyF9s7t7Jta",
        "outputId": "4fde111f-8da7-4315-a5f9-92fa3dd692fb"
      },
      "execution_count": null,
      "outputs": [
        {
          "output_type": "stream",
          "name": "stdout",
          "text": [
            "1\n",
            "2\n",
            "3\n",
            "4\n",
            "5\n",
            "6\n",
            "7\n",
            "8\n",
            "9\n",
            "10\n"
          ]
        }
      ]
    },
    {
      "cell_type": "code",
      "source": [
        "import threading\n",
        "import time\n",
        "import queue\n",
        "\n",
        "buffer = queue.Queue(maxsize=5)\n",
        "lock = threading.Lock()\n",
        "\n",
        "def producer():\n",
        "    for i in range(10):\n",
        "        time.sleep(1)\n",
        "        with lock:\n",
        "            if not buffer.full():\n",
        "                buffer.put(i)\n",
        "                print(f\"Produced: {i}\")\n",
        "\n",
        "def consumer():\n",
        "    for _ in range(10):\n",
        "        time.sleep(2)\n",
        "        with lock:\n",
        "            if not buffer.empty():\n",
        "                item = buffer.get()\n",
        "                print(f\"Consumed: {item}\")\n",
        "\n",
        "producer_thread = threading.Thread(target=producer)\n",
        "consumer_thread = threading.Thread(target=consumer)\n",
        "\n",
        "producer_thread.start()\n",
        "consumer_thread.start()\n",
        "\n",
        "producer_thread.join()\n",
        "consumer_thread.join()\n",
        "\n",
        "print(\"Producer-Consumer simulation done.\")\n"
      ],
      "metadata": {
        "colab": {
          "base_uri": "https://localhost:8080/"
        },
        "id": "WQToKHM8_Ya6",
        "outputId": "4ad74e15-3d0e-4668-e90d-49d51a98240e"
      },
      "execution_count": null,
      "outputs": [
        {
          "output_type": "stream",
          "name": "stdout",
          "text": [
            "Produced: 0\n",
            "Consumed: 0\n",
            "Produced: 1\n",
            "Produced: 2\n",
            "Consumed: 1\n",
            "Produced: 3\n",
            "Produced: 4\n",
            "Consumed: 2\n",
            "Produced: 5\n",
            "Produced: 6\n",
            "Consumed: 3\n",
            "Produced: 7\n",
            "Produced: 8\n",
            "Consumed: 4\n",
            "Produced: 9\n",
            "Consumed: 5\n",
            "Consumed: 6\n",
            "Consumed: 7\n",
            "Consumed: 8\n",
            "Consumed: 9\n",
            "Producer-Consumer simulation done.\n"
          ]
        }
      ]
    },
    {
      "cell_type": "code",
      "source": [
        "import threading\n",
        "\n",
        "def sum_chunk(data, start, end, results, index):\n",
        "    total = sum(data[start:end])\n",
        "    results[index] = total\n",
        "\n",
        "def parallel_sum(data, num_threads=4):\n",
        "    length = len(data)\n",
        "    chunk_size = length // num_threads\n",
        "    threads = []\n",
        "    results = [0] * num_threads\n",
        "\n",
        "    for i in range(num_threads):\n",
        "        start = i * chunk_size\n",
        "        end = length if i == num_threads - 1 else (i + 1) * chunk_size\n",
        "        thread = threading.Thread(target=sum_chunk, args=(data, start, end, results, i))\n",
        "        threads.append(thread)\n",
        "        thread.start()\n",
        "\n",
        "    for thread in threads:\n",
        "        thread.join()\n",
        "\n",
        "    return sum(results)\n",
        "\n",
        "large_list = list(range(1, 1000001))\n",
        "total = parallel_sum(large_list)\n",
        "print(\"Total sum:\", total)\n"
      ],
      "metadata": {
        "colab": {
          "base_uri": "https://localhost:8080/"
        },
        "id": "sbtOv8dz2feK",
        "outputId": "15b5b031-88db-4e69-877a-27ed3977c9c0"
      },
      "execution_count": null,
      "outputs": [
        {
          "output_type": "stream",
          "name": "stdout",
          "text": [
            "Total sum: 500000500000\n"
          ]
        }
      ]
    },
    {
      "cell_type": "code",
      "source": [],
      "metadata": {
        "id": "zxPtoMDR2m_G"
      },
      "execution_count": null,
      "outputs": []
    }
  ]
}