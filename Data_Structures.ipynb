{
  "nbformat": 4,
  "nbformat_minor": 0,
  "metadata": {
    "colab": {
      "provenance": [],
      "authorship_tag": "ABX9TyPjSepAT8T4A9uE53Z2kvEf",
      "include_colab_link": true
    },
    "kernelspec": {
      "name": "python3",
      "display_name": "Python 3"
    },
    "language_info": {
      "name": "python"
    }
  },
  "cells": [
    {
      "cell_type": "markdown",
      "metadata": {
        "id": "view-in-github",
        "colab_type": "text"
      },
      "source": [
        "<a href=\"https://colab.research.google.com/github/PranavAtyeti/py_practice/blob/main/Data_Structures.ipynb\" target=\"_parent\"><img src=\"https://colab.research.google.com/assets/colab-badge.svg\" alt=\"Open In Colab\"/></a>"
      ]
    },
    {
      "cell_type": "markdown",
      "source": [
        "1.Lists: Creation, indexing, slicing, methods, comprehensions.\n",
        "\n",
        "2.Tuples: Immutable sequences.\n",
        "\n",
        "3.Sets: Unordered collections with unique elements.\n",
        "\n",
        "4.Dictionaries: Key-value pairs.\n",
        "\n",
        "5.Strings: Immutability, slicing, methods.\n",
        "\n",
        "6.Built-in Functions: len(), sum(), min(), max(), etc."
      ],
      "metadata": {
        "id": "Uoo9ed45w3nD"
      }
    },
    {
      "cell_type": "markdown",
      "source": [
        "# Lists\n"
      ],
      "metadata": {
        "id": "t6uV8GPpu4CB"
      }
    },
    {
      "cell_type": "code",
      "source": [
        "# List - mutable, can contain multiple datatypes\n",
        "\n",
        "#List creation\n",
        "\n",
        "lst = [1,2,3,4,\"abc\"]\n",
        "\n",
        "#tuple to list\n",
        "lst2 = list((1,2,3,4,\"efg\"))\n",
        "\n",
        "print(lst,lst2)"
      ],
      "metadata": {
        "colab": {
          "base_uri": "https://localhost:8080/"
        },
        "id": "P0AxysE3u55p",
        "outputId": "76098e22-3dfd-4e8c-ff51-497b3a8e2aa3"
      },
      "execution_count": 15,
      "outputs": [
        {
          "output_type": "stream",
          "name": "stdout",
          "text": [
            "[1, 2, 3, 4, 'abc'] [1, 2, 3, 4, 'efg']\n"
          ]
        }
      ]
    },
    {
      "cell_type": "code",
      "source": [
        "#indexing\n",
        "\n",
        "lst[2]\n",
        "\n"
      ],
      "metadata": {
        "colab": {
          "base_uri": "https://localhost:8080/"
        },
        "id": "dM4BL5zkvCse",
        "outputId": "5d8a889c-29a2-4a46-a5ac-02913995650a"
      },
      "execution_count": 11,
      "outputs": [
        {
          "output_type": "execute_result",
          "data": {
            "text/plain": [
              "3"
            ]
          },
          "metadata": {},
          "execution_count": 11
        }
      ]
    },
    {
      "cell_type": "code",
      "source": [
        "#slicing\n",
        "\n",
        "lst[1:]"
      ],
      "metadata": {
        "colab": {
          "base_uri": "https://localhost:8080/"
        },
        "id": "r5hgIyUoverM",
        "outputId": "77c6c36d-6569-49ff-ac79-4a1016304584"
      },
      "execution_count": 12,
      "outputs": [
        {
          "output_type": "execute_result",
          "data": {
            "text/plain": [
              "[2, 3, 4, 'abc']"
            ]
          },
          "metadata": {},
          "execution_count": 12
        }
      ]
    },
    {
      "cell_type": "code",
      "source": [
        "#list methods\n",
        "\n",
        "lst.append(\"new element\")\n",
        "\n",
        "lst.remove(3)\n",
        "\n",
        "lst"
      ],
      "metadata": {
        "colab": {
          "base_uri": "https://localhost:8080/"
        },
        "id": "dEv5RO5Lvnp4",
        "outputId": "adc174a9-5a76-4b10-bcdf-fae4bbf35b50"
      },
      "execution_count": 13,
      "outputs": [
        {
          "output_type": "execute_result",
          "data": {
            "text/plain": [
              "[1, 2, 4, 'abc', 'new element']"
            ]
          },
          "metadata": {},
          "execution_count": 13
        }
      ]
    },
    {
      "cell_type": "code",
      "source": [
        "#list comprehensions\n",
        "\n",
        "lst3 = [x**2 for x in range(6)]\n",
        "lst3"
      ],
      "metadata": {
        "colab": {
          "base_uri": "https://localhost:8080/"
        },
        "id": "TAoTez32vwkD",
        "outputId": "846125d2-5d4d-4180-9eff-85391da47623"
      },
      "execution_count": 14,
      "outputs": [
        {
          "output_type": "execute_result",
          "data": {
            "text/plain": [
              "[0, 1, 4, 9, 16, 25]"
            ]
          },
          "metadata": {},
          "execution_count": 14
        }
      ]
    },
    {
      "cell_type": "markdown",
      "source": [
        "# Tuple"
      ],
      "metadata": {
        "id": "NE40y1m0wFvR"
      }
    },
    {
      "cell_type": "code",
      "source": [
        "# Tuples - Immutable, can contain multiple datatypes, faster than lists, ordered\n",
        "\n",
        "#tuple creation\n",
        "\n",
        "tup1 = (1,2,3,4)\n",
        "\n",
        "print(tup1)\n",
        "\n",
        "tup1[2]"
      ],
      "metadata": {
        "colab": {
          "base_uri": "https://localhost:8080/"
        },
        "id": "rBGWzK7fwCRg",
        "outputId": "9049f7e3-dfda-4b11-ba08-bcaf8dbe3b77"
      },
      "execution_count": 20,
      "outputs": [
        {
          "output_type": "stream",
          "name": "stdout",
          "text": [
            "(1, 2, 3, 4)\n"
          ]
        },
        {
          "output_type": "execute_result",
          "data": {
            "text/plain": [
              "3"
            ]
          },
          "metadata": {},
          "execution_count": 20
        }
      ]
    },
    {
      "cell_type": "code",
      "source": [
        "tup1[2] = 9  #immutable"
      ],
      "metadata": {
        "colab": {
          "base_uri": "https://localhost:8080/",
          "height": 141
        },
        "id": "sECvPTTDwxEh",
        "outputId": "b68dc3ae-2af5-4a0c-d2b3-9a1eb79d49f9"
      },
      "execution_count": 22,
      "outputs": [
        {
          "output_type": "error",
          "ename": "TypeError",
          "evalue": "'tuple' object does not support item assignment",
          "traceback": [
            "\u001b[0;31m---------------------------------------------------------------------------\u001b[0m",
            "\u001b[0;31mTypeError\u001b[0m                                 Traceback (most recent call last)",
            "\u001b[0;32m<ipython-input-22-725283998a31>\u001b[0m in \u001b[0;36m<cell line: 0>\u001b[0;34m()\u001b[0m\n\u001b[0;32m----> 1\u001b[0;31m \u001b[0mtup1\u001b[0m\u001b[0;34m[\u001b[0m\u001b[0;36m2\u001b[0m\u001b[0;34m]\u001b[0m \u001b[0;34m=\u001b[0m \u001b[0;36m9\u001b[0m  \u001b[0;31m#immutable\u001b[0m\u001b[0;34m\u001b[0m\u001b[0;34m\u001b[0m\u001b[0m\n\u001b[0m",
            "\u001b[0;31mTypeError\u001b[0m: 'tuple' object does not support item assignment"
          ]
        }
      ]
    },
    {
      "cell_type": "markdown",
      "source": [
        "# Sets"
      ],
      "metadata": {
        "id": "2b213VcdxM4W"
      }
    },
    {
      "cell_type": "code",
      "source": [
        "#Set - Unordered, remove duplicates\n",
        "#set creation\n",
        "\n",
        "set1 = {1,2,3,4,5}\n",
        "set1"
      ],
      "metadata": {
        "colab": {
          "base_uri": "https://localhost:8080/"
        },
        "id": "UjWXiuEexHG8",
        "outputId": "22236f7c-85a0-42f8-cf58-8b1bd13efb8d"
      },
      "execution_count": 28,
      "outputs": [
        {
          "output_type": "execute_result",
          "data": {
            "text/plain": [
              "{1, 2, 3, 4, 5}"
            ]
          },
          "metadata": {},
          "execution_count": 28
        }
      ]
    },
    {
      "cell_type": "code",
      "source": [
        "# Set Methods\n",
        "\n",
        "set1.add(6) #used to add single element\n",
        "set1.update([7,8]) #used to add multiple elements\n",
        "set1.remove(1)\n",
        "\n",
        "print(set1)"
      ],
      "metadata": {
        "colab": {
          "base_uri": "https://localhost:8080/"
        },
        "id": "C_a7fr1rxUrc",
        "outputId": "8d8cc5da-f169-4efe-af49-971349ddbaf6"
      },
      "execution_count": 29,
      "outputs": [
        {
          "output_type": "stream",
          "name": "stdout",
          "text": [
            "{2, 3, 4, 5, 6, 7, 8}\n"
          ]
        }
      ]
    },
    {
      "cell_type": "code",
      "source": [
        "#set operations\n",
        "\n",
        "a= {1,2,3,4}\n",
        "b= {3,4,5,6}\n",
        "\n",
        "print(a&b) #includes common element\n",
        "print(a|b) #includes all element\n",
        "print(a-b) #removes common element from a or left set"
      ],
      "metadata": {
        "colab": {
          "base_uri": "https://localhost:8080/"
        },
        "id": "74FsnHq0x-6N",
        "outputId": "97408885-32bc-48b3-873c-68974f963905"
      },
      "execution_count": 33,
      "outputs": [
        {
          "output_type": "stream",
          "name": "stdout",
          "text": [
            "{3, 4}\n",
            "{1, 2, 3, 4, 5, 6}\n",
            "{1, 2}\n"
          ]
        }
      ]
    },
    {
      "cell_type": "code",
      "source": [],
      "metadata": {
        "id": "HpuiGJuiyxvP"
      },
      "execution_count": null,
      "outputs": []
    },
    {
      "cell_type": "markdown",
      "source": [
        "# Dictionaries"
      ],
      "metadata": {
        "id": "OGzKfuguzdQ5"
      }
    },
    {
      "cell_type": "code",
      "source": [
        "#creating a dictionary\n",
        "Pranav = {\"name\":\"Pranav\", \"age\":23}\n",
        "\n",
        "print(Pranav)\n",
        "\n",
        "#accesing value by key\n",
        "print(Pranav[\"age\"])"
      ],
      "metadata": {
        "colab": {
          "base_uri": "https://localhost:8080/"
        },
        "id": "YyeqqzGozf4L",
        "outputId": "ce648ce9-1b3e-4578-d650-b9528bcb3dca"
      },
      "execution_count": 39,
      "outputs": [
        {
          "output_type": "stream",
          "name": "stdout",
          "text": [
            "{'name': 'Pranav', 'age': 23}\n",
            "23\n"
          ]
        }
      ]
    },
    {
      "cell_type": "code",
      "source": [
        "#add new element\n",
        "\n",
        "Pranav[\"city\"] = \"Pune\"\n",
        "print(Pranav)"
      ],
      "metadata": {
        "colab": {
          "base_uri": "https://localhost:8080/"
        },
        "id": "xB5ZM9sGzv93",
        "outputId": "9b394c66-9250-43bc-c808-1169574164a5"
      },
      "execution_count": 41,
      "outputs": [
        {
          "output_type": "stream",
          "name": "stdout",
          "text": [
            "{'name': 'Pranav', 'age': 23, 'city': 'Pune'}\n"
          ]
        }
      ]
    },
    {
      "cell_type": "code",
      "source": [
        "#update existing element\n",
        "\n",
        "Pranav[\"age\"]= 25\n",
        "print(Pranav)"
      ],
      "metadata": {
        "colab": {
          "base_uri": "https://localhost:8080/"
        },
        "id": "76NeoEFf07Zt",
        "outputId": "f1c19cc8-a20a-445e-e97a-abc8850c11b1"
      },
      "execution_count": 42,
      "outputs": [
        {
          "output_type": "stream",
          "name": "stdout",
          "text": [
            "{'name': 'Pranav', 'age': 25, 'city': 'Pune'}\n"
          ]
        }
      ]
    },
    {
      "cell_type": "code",
      "source": [
        "# dictionary methods\n",
        "print(Pranav.keys())\n",
        "\n",
        "print(Pranav.values())\n",
        "\n",
        "print(Pranav.items())"
      ],
      "metadata": {
        "colab": {
          "base_uri": "https://localhost:8080/"
        },
        "id": "xFlSxjfS1G-B",
        "outputId": "51162e41-4bd1-4af1-c4dc-7824ce7c66d8"
      },
      "execution_count": 46,
      "outputs": [
        {
          "output_type": "stream",
          "name": "stdout",
          "text": [
            "dict_keys(['name', 'age', 'city'])\n",
            "dict_values(['Pranav', 25, 'Pune'])\n",
            "dict_items([('name', 'Pranav'), ('age', 25), ('city', 'Pune')])\n"
          ]
        }
      ]
    },
    {
      "cell_type": "code",
      "source": [],
      "metadata": {
        "id": "WmScG0v31Muf"
      },
      "execution_count": null,
      "outputs": []
    },
    {
      "cell_type": "markdown",
      "source": [
        "# Strings"
      ],
      "metadata": {
        "id": "Z3JLMAff3Xjp"
      }
    },
    {
      "cell_type": "code",
      "source": [
        "str1 = \"Hello World\" #string creation\n",
        "str1"
      ],
      "metadata": {
        "colab": {
          "base_uri": "https://localhost:8080/",
          "height": 35
        },
        "id": "liCQBbt13W5C",
        "outputId": "41fef4cf-43c6-41a2-f42d-7cf5505c27e7"
      },
      "execution_count": 50,
      "outputs": [
        {
          "output_type": "execute_result",
          "data": {
            "text/plain": [
              "'Hello World'"
            ],
            "application/vnd.google.colaboratory.intrinsic+json": {
              "type": "string"
            }
          },
          "metadata": {},
          "execution_count": 50
        }
      ]
    },
    {
      "cell_type": "code",
      "source": [
        "str1[2] = \"H\"  #Immutability\n"
      ],
      "metadata": {
        "colab": {
          "base_uri": "https://localhost:8080/",
          "height": 141
        },
        "id": "z6ZtOjoH4bwQ",
        "outputId": "6bea092f-b23b-4399-8789-b2abe5b227e1"
      },
      "execution_count": 49,
      "outputs": [
        {
          "output_type": "error",
          "ename": "TypeError",
          "evalue": "'str' object does not support item assignment",
          "traceback": [
            "\u001b[0;31m---------------------------------------------------------------------------\u001b[0m",
            "\u001b[0;31mTypeError\u001b[0m                                 Traceback (most recent call last)",
            "\u001b[0;32m<ipython-input-49-ed025603c65c>\u001b[0m in \u001b[0;36m<cell line: 0>\u001b[0;34m()\u001b[0m\n\u001b[0;32m----> 1\u001b[0;31m \u001b[0mstr1\u001b[0m\u001b[0;34m[\u001b[0m\u001b[0;36m2\u001b[0m\u001b[0;34m]\u001b[0m \u001b[0;34m=\u001b[0m \u001b[0;34m\"H\"\u001b[0m  \u001b[0;31m#Immutability\u001b[0m\u001b[0;34m\u001b[0m\u001b[0;34m\u001b[0m\u001b[0m\n\u001b[0m",
            "\u001b[0;31mTypeError\u001b[0m: 'str' object does not support item assignment"
          ]
        }
      ]
    },
    {
      "cell_type": "code",
      "source": [
        "#slicing\n",
        "print(str1[1:7])\n",
        "word = \"ell\"\n",
        "\n",
        "for i in range(len(str1)):\n",
        "  if str1[i:i+3] == word:\n",
        "    print(\"match found\")"
      ],
      "metadata": {
        "colab": {
          "base_uri": "https://localhost:8080/"
        },
        "id": "NAGnB6bh4evQ",
        "outputId": "fa4f3c64-c011-428b-bb37-e8bb00f45e7a"
      },
      "execution_count": 64,
      "outputs": [
        {
          "output_type": "stream",
          "name": "stdout",
          "text": [
            "ello W\n",
            "match found\n"
          ]
        }
      ]
    },
    {
      "cell_type": "code",
      "source": [
        "#str methods\n",
        "print(str1.upper())\n",
        "print(str1.title())\n",
        "print(str1.lower())"
      ],
      "metadata": {
        "colab": {
          "base_uri": "https://localhost:8080/"
        },
        "id": "TKW72yTA4nFJ",
        "outputId": "318866d3-6e35-4e90-c4fb-98a6ddb30194"
      },
      "execution_count": 55,
      "outputs": [
        {
          "output_type": "stream",
          "name": "stdout",
          "text": [
            "HELLO WORLD\n",
            "Hello World\n",
            "hello world\n"
          ]
        }
      ]
    },
    {
      "cell_type": "markdown",
      "source": [
        "# Built in methods"
      ],
      "metadata": {
        "id": "zeuYAT1237bJ"
      }
    },
    {
      "cell_type": "code",
      "source": [
        "lst4 = [2,1,3,4,5,7,6]\n",
        "\n",
        "print(len(lst4))\n",
        "print(sum(lst4))\n",
        "print(min(lst4))\n",
        "print(max(lst4))\n",
        "print(sorted(lst4))"
      ],
      "metadata": {
        "colab": {
          "base_uri": "https://localhost:8080/"
        },
        "id": "eySg05Te3-a7",
        "outputId": "a6167e68-6b8e-4250-abdd-d59f9e84d584"
      },
      "execution_count": 68,
      "outputs": [
        {
          "output_type": "stream",
          "name": "stdout",
          "text": [
            "7\n",
            "28\n",
            "1\n",
            "7\n",
            "[1, 2, 3, 4, 5, 6, 7]\n"
          ]
        }
      ]
    },
    {
      "cell_type": "code",
      "source": [],
      "metadata": {
        "colab": {
          "base_uri": "https://localhost:8080/",
          "height": 141
        },
        "id": "sOOTR5Yj6qOT",
        "outputId": "9e4d34f4-b6b0-432d-91ea-c5c30c1db42b"
      },
      "execution_count": 69,
      "outputs": [
        {
          "output_type": "error",
          "ename": "ZeroDivisionError",
          "evalue": "integer modulo by zero",
          "traceback": [
            "\u001b[0;31m---------------------------------------------------------------------------\u001b[0m",
            "\u001b[0;31mZeroDivisionError\u001b[0m                         Traceback (most recent call last)",
            "\u001b[0;32m<ipython-input-69-aa7876c9e4b0>\u001b[0m in \u001b[0;36m<cell line: 0>\u001b[0;34m()\u001b[0m\n\u001b[0;32m----> 1\u001b[0;31m \u001b[0;36m6\u001b[0m\u001b[0;34m%\u001b[0m\u001b[0;36m0\u001b[0m\u001b[0;34m\u001b[0m\u001b[0;34m\u001b[0m\u001b[0m\n\u001b[0m",
            "\u001b[0;31mZeroDivisionError\u001b[0m: integer modulo by zero"
          ]
        }
      ]
    },
    {
      "cell_type": "code",
      "source": [],
      "metadata": {
        "id": "6KkkbPV176D9"
      },
      "execution_count": null,
      "outputs": []
    }
  ]
}