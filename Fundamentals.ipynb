{
  "nbformat": 4,
  "nbformat_minor": 0,
  "metadata": {
    "colab": {
      "provenance": [],
      "authorship_tag": "ABX9TyMKOwDCEw/kSsnKRX/D9Tvi",
      "include_colab_link": true
    },
    "kernelspec": {
      "name": "python3",
      "display_name": "Python 3"
    },
    "language_info": {
      "name": "python"
    }
  },
  "cells": [
    {
      "cell_type": "markdown",
      "metadata": {
        "id": "view-in-github",
        "colab_type": "text"
      },
      "source": [
        "<a href=\"https://colab.research.google.com/github/PranavAtyeti/py_practice/blob/main/Fundamentals.ipynb\" target=\"_parent\"><img src=\"https://colab.research.google.com/assets/colab-badge.svg\" alt=\"Open In Colab\"/></a>"
      ]
    },
    {
      "cell_type": "markdown",
      "source": [
        "1.Variables & Data Types: Learn integers, floats, strings, booleans, and dynamic typing.\n",
        "\n",
        "2.Operators: Arithmetic, assignment, comparison, logical, bitwise.\n",
        "\n",
        "3.Type Casting: Convert between int, float, str, etc.\n",
        "\n",
        "4.Input/Output: Use input(), print(), formatted strings.\n",
        "\n",
        "5.Comments: Single-line # and multi-line comments."
      ],
      "metadata": {
        "id": "3J18RdnzYPK9"
      }
    },
    {
      "cell_type": "markdown",
      "source": [
        "# Variables"
      ],
      "metadata": {
        "id": "0DNBSpKAYTrO"
      }
    },
    {
      "cell_type": "code",
      "source": [
        "# In python variable datatype is assigned according to the value given dynamically\n",
        "\n",
        "age = 23  #integer\n",
        "\n",
        "name = \"Pranav\" #string\n",
        "\n",
        "height = 5.12  #float\n",
        "\n",
        "age = float(23)  #typecasting\n",
        "print(age)\n"
      ],
      "metadata": {
        "colab": {
          "base_uri": "https://localhost:8080/"
        },
        "id": "RUUwM0rBYP4z",
        "outputId": "5cad96c6-3488-4931-beb1-731184687cdf"
      },
      "execution_count": 4,
      "outputs": [
        {
          "output_type": "stream",
          "name": "stdout",
          "text": [
            "23.0\n"
          ]
        }
      ]
    },
    {
      "cell_type": "markdown",
      "source": [
        "# Operators"
      ],
      "metadata": {
        "id": "2NORXy8CZw3C"
      }
    },
    {
      "cell_type": "code",
      "source": [
        "#arithmetic\n",
        "a = 10\n",
        "b = 2\n",
        "\n",
        "\n",
        "print(a+b) # addition\n",
        "print(a-b) #subtraction\n",
        "print(a*b) #multiplication\n",
        "print(a/b) #division\n",
        "print(a**b) #exponent\n",
        "print(a%b) #modulus, used for getting remainder\n",
        "print(a//b) #floor division, returns integer rounded off to lowest"
      ],
      "metadata": {
        "colab": {
          "base_uri": "https://localhost:8080/"
        },
        "id": "trci8N9GZcOB",
        "outputId": "35b85522-58bc-40a6-a678-aba513484218"
      },
      "execution_count": 8,
      "outputs": [
        {
          "output_type": "stream",
          "name": "stdout",
          "text": [
            "12\n",
            "8\n",
            "20\n",
            "5.0\n",
            "100\n",
            "0\n",
            "5\n"
          ]
        }
      ]
    },
    {
      "cell_type": "code",
      "source": [
        "#comparison operators\n",
        "print(a==b)\n",
        "print(a>b)\n",
        "print(a!=b)\n",
        "\n",
        "#assignment operators\n",
        "x=5\n",
        "x+=5\n",
        "\n",
        "print(x)"
      ],
      "metadata": {
        "colab": {
          "base_uri": "https://localhost:8080/"
        },
        "id": "L2pj6MnJaBt4",
        "outputId": "90de63d9-1130-4d86-d45f-0e9360bdf5e5"
      },
      "execution_count": 14,
      "outputs": [
        {
          "output_type": "stream",
          "name": "stdout",
          "text": [
            "False\n",
            "True\n",
            "True\n",
            "10\n"
          ]
        }
      ]
    },
    {
      "cell_type": "code",
      "source": [
        "#logical\n",
        "\n",
        "print(True and True)\n",
        "print(True or False)\n",
        "print(not True)"
      ],
      "metadata": {
        "colab": {
          "base_uri": "https://localhost:8080/"
        },
        "id": "iGGl7LLebJ4d",
        "outputId": "28f2d121-d8d6-4667-9678-6ff34153984b"
      },
      "execution_count": 18,
      "outputs": [
        {
          "output_type": "stream",
          "name": "stdout",
          "text": [
            "True\n",
            "True\n",
            "False\n"
          ]
        }
      ]
    },
    {
      "cell_type": "code",
      "source": [
        "#bitwise\n",
        "\n",
        "x,y = 1,0\n",
        "\n",
        "print(x&y)\n",
        "print(x|y)\n",
        "print(x^y)\n",
        "print(~x)\n",
        "z=16\n",
        "print(z>>1)\n",
        "print(z<<1)"
      ],
      "metadata": {
        "colab": {
          "base_uri": "https://localhost:8080/"
        },
        "id": "r0GujJ8ub28t",
        "outputId": "f824320b-c50b-4946-bdf4-eec80f71689f"
      },
      "execution_count": 24,
      "outputs": [
        {
          "output_type": "stream",
          "name": "stdout",
          "text": [
            "0\n",
            "1\n",
            "1\n",
            "-2\n",
            "8\n",
            "32\n"
          ]
        }
      ]
    },
    {
      "cell_type": "markdown",
      "source": [
        "# Input, Output, Comments"
      ],
      "metadata": {
        "id": "MQnwMF8xcuys"
      }
    },
    {
      "cell_type": "code",
      "source": [
        "#input\n",
        "\n",
        "name = input(\"Enter name : \")\n",
        "\n",
        "#output\n",
        "\n",
        "print(\"Hello World\")\n",
        "\n",
        "\n",
        "# single line comment\n",
        "\n",
        "\"\"\"\n",
        "multi\n",
        "line\n",
        "comment\n",
        "\"\"\""
      ],
      "metadata": {
        "colab": {
          "base_uri": "https://localhost:8080/",
          "height": 70
        },
        "id": "aHFKEZ6OcHFa",
        "outputId": "33af9e45-89ec-428c-dec0-6ec742741f4e"
      },
      "execution_count": 28,
      "outputs": [
        {
          "output_type": "stream",
          "name": "stdout",
          "text": [
            "Enter name : h\n",
            "Hello World\n"
          ]
        },
        {
          "output_type": "execute_result",
          "data": {
            "text/plain": [
              "' \\nmulti\\nline\\ncomment\\n'"
            ],
            "application/vnd.google.colaboratory.intrinsic+json": {
              "type": "string"
            }
          },
          "metadata": {},
          "execution_count": 28
        }
      ]
    },
    {
      "cell_type": "code",
      "source": [],
      "metadata": {
        "id": "xz5dJ8CMdKl6"
      },
      "execution_count": null,
      "outputs": []
    }
  ]
}