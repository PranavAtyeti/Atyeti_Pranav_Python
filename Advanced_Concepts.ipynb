{
  "cells": [
    {
      "cell_type": "markdown",
      "metadata": {
        "id": "view-in-github",
        "colab_type": "text"
      },
      "source": [
        "<a href=\"https://colab.research.google.com/github/PranavAtyeti/Atyeti_Pranav_Python/blob/main/Advanced_Concepts.ipynb\" target=\"_parent\"><img src=\"https://colab.research.google.com/assets/colab-badge.svg\" alt=\"Open In Colab\"/></a>"
      ]
    },
    {
      "cell_type": "markdown",
      "metadata": {
        "id": "DXhOV0z4n6e2"
      },
      "source": [
        "# Decorators\n"
      ]
    },
    {
      "cell_type": "code",
      "execution_count": null,
      "metadata": {
        "id": "Z-r8LkZ9i6tp"
      },
      "outputs": [],
      "source": [
        "import time\n",
        "\n",
        "\n",
        "def timinig_decorator(func):\n",
        "  def wrapper(*args,**kwargs):\n",
        "    print(f\"Start: {func.__name__}\")\n",
        "    start = time.time()\n",
        "    result = func(*args,**kwargs)\n",
        "    end = time.time()\n",
        "    print(f\"End: {func.__name__}\")\n",
        "    print(end-start)\n",
        "    return result\n",
        "  return wrapper"
      ]
    },
    {
      "cell_type": "code",
      "execution_count": null,
      "metadata": {
        "colab": {
          "base_uri": "https://localhost:8080/"
        },
        "id": "8V0amN-bp6nn",
        "outputId": "94a68c7f-3530-44ff-ba52-d6f04ee1c01e"
      },
      "outputs": [
        {
          "name": "stdout",
          "output_type": "stream",
          "text": [
            "Start: slow_func\n",
            "slow func\n",
            "End: slow_func\n",
            "2.0002713203430176\n"
          ]
        }
      ],
      "source": [
        "@timinig_decorator\n",
        "def slow_func():\n",
        "  time.sleep(2)\n",
        "  print(\"slow func\")\n",
        "\n",
        "slow_func()"
      ]
    },
    {
      "cell_type": "markdown",
      "metadata": {
        "id": "0s3jSEFKn5TO"
      },
      "source": [
        "# Generator"
      ]
    },
    {
      "cell_type": "code",
      "execution_count": null,
      "metadata": {
        "colab": {
          "base_uri": "https://localhost:8080/"
        },
        "id": "OrCggAiLrVeh",
        "outputId": "4fe3f6de-341e-4d93-f326-249abeae71cf"
      },
      "outputs": [
        {
          "name": "stdout",
          "output_type": "stream",
          "text": [
            "In loop 1\n",
            "In loop 2\n",
            "yield\n",
            "In loop 1\n",
            "In loop 2\n",
            "returns\n",
            "In loop 1\n",
            "In loop 2\n",
            "one\n",
            "In loop 1\n",
            "In loop 2\n",
            "item\n",
            "In loop 1\n",
            "In loop 2\n",
            "at\n",
            "In loop 1\n",
            "In loop 2\n",
            "a\n",
            "In loop 1\n",
            "In loop 2\n",
            "time\n"
          ]
        }
      ],
      "source": [
        "def word_split(text):\n",
        "  for word in text.split():\n",
        "    print(\"In loop 1\")\n",
        "    yield word\n",
        "\n",
        "text = \"yield returns one item at a time\"\n",
        "\n",
        "for word in word_split(text):\n",
        "  print(\"In loop 2\")\n",
        "  print(word)"
      ]
    },
    {
      "cell_type": "markdown",
      "metadata": {
        "id": "FstxIhQeoOWa"
      },
      "source": [
        "# Iterator"
      ]
    },
    {
      "cell_type": "code",
      "execution_count": null,
      "metadata": {
        "id": "CiatSdwGsPlQ"
      },
      "outputs": [],
      "source": [
        "class SquareIterator:\n",
        "    def __init__(self, limit):\n",
        "        self.limit = limit\n",
        "        self.current = 1\n",
        "\n",
        "    def __iter__(self):\n",
        "        return self\n",
        "\n",
        "    def __next__(self):\n",
        "        if self.current <= self.limit:\n",
        "            result = self.current ** 2\n",
        "            self.current += 1\n",
        "            return result\n",
        "        else:\n",
        "            raise StopIteration\n",
        "\n",
        "# Usage\n",
        "for num in SquareIterator(5):\n",
        "    print(num)  # Output: 1, 4, 9, 16, 25\n"
      ]
    },
    {
      "cell_type": "code",
      "execution_count": null,
      "metadata": {
        "colab": {
          "background_save": true
        },
        "id": "5UmMdKsHoSCO"
      },
      "outputs": [],
      "source": [
        "import csv\n",
        "\n",
        "with open(\"/content/sample_data/mnist_train_small.csv\", newline=\"\") as f:\n",
        "  for row in csv.reader(f):\n",
        "    print(row)"
      ]
    },
    {
      "cell_type": "markdown",
      "source": [
        "# Closures"
      ],
      "metadata": {
        "id": "GfknRKE58iqt"
      }
    },
    {
      "cell_type": "code",
      "execution_count": 6,
      "metadata": {
        "id": "FpgAsBUR8KZZ",
        "colab": {
          "base_uri": "https://localhost:8080/"
        },
        "outputId": "45dfd38a-df2b-4bc5-f7cc-00088635fc46"
      },
      "outputs": [
        {
          "output_type": "stream",
          "name": "stdout",
          "text": [
            "Hello, Alice!\n",
            "welcome, Bob!\n"
          ]
        }
      ],
      "source": [
        "def greeting_creator(prefix):\n",
        "  def greet(name):\n",
        "    return f\"{prefix}, {name}!\"\n",
        "  return greet\n",
        "\n",
        "\n",
        "say_hello = greeting_creator(\"Hello\")\n",
        "say_welcome = greeting_creator(\"welcome\")\n",
        "\n",
        "print(say_hello(\"Alice\"))\n",
        "print(say_welcome(\"Bob\"))"
      ]
    },
    {
      "cell_type": "markdown",
      "source": [
        "# Comprehensions"
      ],
      "metadata": {
        "id": "tSlH9EugBkoA"
      }
    },
    {
      "cell_type": "code",
      "source": [
        "nums = list(range(1,11))\n",
        "\n",
        "list_compr = [n**2 for n in nums]\n",
        "\n",
        "dict_compr = {n :n**3 for n in nums}\n",
        "\n",
        "mod_squares = {n**2%5 for n in nums}"
      ],
      "metadata": {
        "id": "98VLnqos_-ci"
      },
      "execution_count": 8,
      "outputs": []
    },
    {
      "cell_type": "code",
      "source": [
        "print(list_compr,dict_compr,mod_squares, sep = \"\\n\\n\")"
      ],
      "metadata": {
        "colab": {
          "base_uri": "https://localhost:8080/"
        },
        "id": "Df-AdVxQBwbv",
        "outputId": "a0373f6b-e404-42d4-d4b2-d6d2c49d6e62"
      },
      "execution_count": 11,
      "outputs": [
        {
          "output_type": "stream",
          "name": "stdout",
          "text": [
            "[1, 4, 9, 16, 25, 36, 49, 64, 81, 100]\n",
            "\n",
            "{1: 1, 2: 8, 3: 27, 4: 64, 5: 125, 6: 216, 7: 343, 8: 512, 9: 729, 10: 1000}\n",
            "\n",
            "{0, 1, 4}\n"
          ]
        }
      ]
    },
    {
      "cell_type": "code",
      "source": [],
      "metadata": {
        "id": "CPcxqQX-Cbqb"
      },
      "execution_count": null,
      "outputs": []
    }
  ],
  "metadata": {
    "colab": {
      "provenance": [],
      "authorship_tag": "ABX9TyM27KDw4zalJxmR84FLAGy+",
      "include_colab_link": true
    },
    "kernelspec": {
      "display_name": "Python 3",
      "name": "python3"
    },
    "language_info": {
      "name": "python"
    }
  },
  "nbformat": 4,
  "nbformat_minor": 0
}