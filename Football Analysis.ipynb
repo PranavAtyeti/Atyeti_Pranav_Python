{
 "cells": [
  {
   "cell_type": "code",
   "execution_count": 0,
   "metadata": {
    "application/vnd.databricks.v1+cell": {
     "cellMetadata": {
      "byteLimit": 2048000,
      "rowLimit": 10000
     },
     "inputWidgets": {},
     "nuid": "6bb90cb4-5426-41bc-a62f-bd0e55438c62",
     "showTitle": false,
     "tableResultSettingsMap": {},
     "title": ""
    }
   },
   "outputs": [
    {
     "output_type": "stream",
     "name": "stdout",
     "output_type": "stream",
     "text": [
      "+-----------------+---------+-----+-------+------------+---------+--------------+----------+\n|           Player|     Club|Goals|Assists|Yellow_Cards|Red_Cards|Matches_Played|  Position|\n+-----------------+---------+-----+-------+------------+---------+--------------+----------+\n|     Lionel Messi|      PSG|   30|     18|           3|        0|            32|   Forward|\n|Cristiano Ronaldo| Al Nassr|   25|      4|           5|        1|            31|   Forward|\n|  Kevin De Bruyne| Man City|   10|     22|           4|        0|            28|Midfielder|\n|  Virgil van Dijk|Liverpool|    5|      2|           3|        0|            30|  Defender|\n|    Kylian Mbappe|      PSG|   28|     10|           2|        0|            33|   Forward|\n+-----------------+---------+-----+-------+------------+---------+--------------+----------+\nonly showing top 5 rows\nroot\n |-- Player: string (nullable = true)\n |-- Club: string (nullable = true)\n |-- Goals: integer (nullable = true)\n |-- Assists: integer (nullable = true)\n |-- Yellow_Cards: integer (nullable = true)\n |-- Red_Cards: integer (nullable = true)\n |-- Matches_Played: integer (nullable = true)\n |-- Position: string (nullable = true)\n\n"
     ]
    }
   ],
   "source": [
    "df = spark.read.csv(\"/Volumes/workspace/default/data/club_stats.csv\", header=True, inferSchema=True)\n",
    "\n",
    "df.show(5)\n",
    "df.printSchema()\n"
   ]
  },
  {
   "cell_type": "code",
   "execution_count": 0,
   "metadata": {
    "application/vnd.databricks.v1+cell": {
     "cellMetadata": {
      "byteLimit": 2048000,
      "rowLimit": 10000
     },
     "inputWidgets": {},
     "nuid": "a75ca1ad-55c3-4159-bf17-6569ba284c62",
     "showTitle": false,
     "tableResultSettingsMap": {},
     "title": ""
    }
   },
   "outputs": [
    {
     "output_type": "stream",
     "name": "stdout",
     "output_type": "stream",
     "text": [
      "+-----------------+----------+-----+\n|           Player|      Club|Goals|\n+-----------------+----------+-----+\n|   Erling Haaland|  Man City|   32|\n|     Lionel Messi|       PSG|   30|\n|    Kylian Mbappe|       PSG|   28|\n|Cristiano Ronaldo|  Al Nassr|   25|\n|        Neymar Jr|       PSG|   15|\n|  Bruno Fernandes|Man United|   12|\n|  Kevin De Bruyne|  Man City|   10|\n|  Virgil van Dijk| Liverpool|    5|\n|         Casemiro|Man United|    4|\n|     Sergio Ramos|       PSG|    3|\n+-----------------+----------+-----+\n\n"
     ]
    }
   ],
   "source": [
    "# Top goal Scorers\n",
    "df.orderBy(df.Goals.desc()).select(\"Player\",\"Club\",\"Goals\").show()"
   ]
  },
  {
   "cell_type": "code",
   "execution_count": 0,
   "metadata": {
    "application/vnd.databricks.v1+cell": {
     "cellMetadata": {
      "byteLimit": 2048000,
      "rowLimit": 10000
     },
     "inputWidgets": {},
     "nuid": "fe9a87f4-5b36-4b21-a206-4748c769eafc",
     "showTitle": false,
     "tableResultSettingsMap": {},
     "title": ""
    }
   },
   "outputs": [
    {
     "output_type": "stream",
     "name": "stdout",
     "output_type": "stream",
     "text": [
      "+-----------------+----------+-------+\n|           Player|      Club|Assists|\n+-----------------+----------+-------+\n|  Kevin De Bruyne|  Man City|     22|\n|     Lionel Messi|       PSG|     18|\n|        Neymar Jr|       PSG|     12|\n|    Kylian Mbappe|       PSG|     10|\n|  Bruno Fernandes|Man United|      9|\n|   Erling Haaland|  Man City|      6|\n|Cristiano Ronaldo|  Al Nassr|      4|\n|         Casemiro|Man United|      3|\n|  Virgil van Dijk| Liverpool|      2|\n|     Sergio Ramos|       PSG|      1|\n+-----------------+----------+-------+\n\n"
     ]
    }
   ],
   "source": [
    "# Top Assist Providers\n",
    "\n",
    "df.orderBy(df.Assists.desc()).select(\"Player\",\"Club\",\"Assists\").show()"
   ]
  },
  {
   "cell_type": "code",
   "execution_count": 0,
   "metadata": {
    "application/vnd.databricks.v1+cell": {
     "cellMetadata": {
      "byteLimit": 2048000,
      "rowLimit": 10000
     },
     "inputWidgets": {},
     "nuid": "a9f63103-f9d3-4dc2-84f4-b73c153d9d0a",
     "showTitle": false,
     "tableResultSettingsMap": {},
     "title": ""
    }
   },
   "outputs": [
    {
     "output_type": "stream",
     "name": "stdout",
     "output_type": "stream",
     "text": [
      "+-----------------+----------+-----------+\n|           Player|      Club|Total_Cards|\n+-----------------+----------+-----------+\n|     Sergio Ramos|       PSG|         12|\n|         Casemiro|Man United|          9|\n|  Bruno Fernandes|Man United|          7|\n|Cristiano Ronaldo|  Al Nassr|          6|\n|        Neymar Jr|       PSG|          6|\n|  Kevin De Bruyne|  Man City|          4|\n|     Lionel Messi|       PSG|          3|\n|   Erling Haaland|  Man City|          3|\n|  Virgil van Dijk| Liverpool|          3|\n|    Kylian Mbappe|       PSG|          2|\n+-----------------+----------+-----------+\n\n"
     ]
    }
   ],
   "source": [
    "# Aggressive players with red and yellow cards\n",
    "\n",
    "from pyspark.sql.functions import col, expr\n",
    "df.withColumn(\"Total_Cards\",col(\"Yellow_Cards\") + col(\"Red_Cards\")) \\\n",
    "    .orderBy(col(\"Total_cards\").desc()) \\\n",
    "    .select(\"Player\", \"Club\",\"Total_Cards\") \\\n",
    "    .show()"
   ]
  },
  {
   "cell_type": "code",
   "execution_count": 0,
   "metadata": {
    "application/vnd.databricks.v1+cell": {
     "cellMetadata": {
      "byteLimit": 2048000,
      "rowLimit": 10000
     },
     "inputWidgets": {},
     "nuid": "366b3335-4bcd-4dec-9e9f-84e8074e7036",
     "showTitle": false,
     "tableResultSettingsMap": {},
     "title": ""
    }
   },
   "outputs": [
    {
     "output_type": "stream",
     "name": "stdout",
     "output_type": "stream",
     "text": [
      "+----------+----------+\n|      Club|sum(Goals)|\n+----------+----------+\n|       PSG|        76|\n|  Man City|        42|\n|  Al Nassr|        25|\n|Man United|        16|\n| Liverpool|         5|\n+----------+----------+\n\n"
     ]
    }
   ],
   "source": [
    "# Club with most Goals\n",
    "\n",
    "df.groupBy(\"Club\").sum(\"Goals\").orderBy(\"sum(Goals)\", ascending=False).show()"
   ]
  },
  {
   "cell_type": "code",
   "execution_count": 0,
   "metadata": {
    "application/vnd.databricks.v1+cell": {
     "cellMetadata": {},
     "inputWidgets": {},
     "nuid": "56e3ae98-954c-4ee3-b0e1-68782b8cafed",
     "showTitle": false,
     "tableResultSettingsMap": {},
     "title": ""
    }
   },
   "outputs": [],
   "source": []
  }
 ],
 "metadata": {
  "application/vnd.databricks.v1+notebook": {
   "computePreferences": null,
   "dashboards": [],
   "environmentMetadata": {
    "base_environment": "",
    "environment_version": "2"
   },
   "inputWidgetPreferences": null,
   "language": "python",
   "notebookMetadata": {
    "pythonIndentUnit": 4
   },
   "notebookName": "Football Analysis",
   "widgets": {}
  },
  "language_info": {
   "name": "python"
  }
 },
 "nbformat": 4,
 "nbformat_minor": 0
}