{
 "cells": [
  {
   "cell_type": "code",
   "execution_count": 0,
   "metadata": {
    "application/vnd.databricks.v1+cell": {
     "cellMetadata": {
      "byteLimit": 2048000,
      "rowLimit": 10000
     },
     "inputWidgets": {},
     "nuid": "6bb90cb4-5426-41bc-a62f-bd0e55438c62",
     "showTitle": false,
     "tableResultSettingsMap": {},
     "title": ""
    }
   },
   "outputs": [
    {
     "output_type": "stream",
     "name": "stdout",
     "output_type": "stream",
     "text": [
      "+-----------------+---------+-----+-------+------------+---------+--------------+----------+\n|           Player|     Club|Goals|Assists|Yellow_Cards|Red_Cards|Matches_Played|  Position|\n+-----------------+---------+-----+-------+------------+---------+--------------+----------+\n|     Lionel Messi|      PSG|   30|     18|           3|        0|            32|   Forward|\n|Cristiano Ronaldo| Al Nassr|   25|      4|           5|        1|            31|   Forward|\n|  Kevin De Bruyne| Man City|   10|     22|           4|        0|            28|Midfielder|\n|  Virgil van Dijk|Liverpool|    5|      2|           3|        0|            30|  Defender|\n|    Kylian Mbappe|      PSG|   28|     10|           2|        0|            33|   Forward|\n+-----------------+---------+-----+-------+------------+---------+--------------+----------+\nonly showing top 5 rows\nroot\n |-- Player: string (nullable = true)\n |-- Club: string (nullable = true)\n |-- Goals: integer (nullable = true)\n |-- Assists: integer (nullable = true)\n |-- Yellow_Cards: integer (nullable = true)\n |-- Red_Cards: integer (nullable = true)\n |-- Matches_Played: integer (nullable = true)\n |-- Position: string (nullable = true)\n\n"
     ]
    }
   ],
   "source": [
    "df = spark.read.csv(\"/Volumes/workspace/default/data/club_stats.csv\", header=True, inferSchema=True)\n",
    "\n",
    "df.show(5)\n",
    "df.printSchema()\n"
   ]
  },
  {
   "cell_type": "code",
   "execution_count": 0,
   "metadata": {
    "application/vnd.databricks.v1+cell": {
     "cellMetadata": {
      "byteLimit": 2048000,
      "rowLimit": 10000
     },
     "inputWidgets": {},
     "nuid": "a75ca1ad-55c3-4159-bf17-6569ba284c62",
     "showTitle": false,
     "tableResultSettingsMap": {},
     "title": ""
    }
   },
   "outputs": [
    {
     "output_type": "stream",
     "name": "stdout",
     "output_type": "stream",
     "text": [
      "+-----------------+----------+-----+\n|           Player|      Club|Goals|\n+-----------------+----------+-----+\n|   Erling Haaland|  Man City|   32|\n|     Lionel Messi|       PSG|   30|\n|    Kylian Mbappe|       PSG|   28|\n|Cristiano Ronaldo|  Al Nassr|   25|\n|        Neymar Jr|       PSG|   15|\n|  Bruno Fernandes|Man United|   12|\n|  Kevin De Bruyne|  Man City|   10|\n|  Virgil van Dijk| Liverpool|    5|\n|         Casemiro|Man United|    4|\n|     Sergio Ramos|       PSG|    3|\n+-----------------+----------+-----+\n\n"
     ]
    }
   ],
   "source": [
    "# Top goal Scorers\n",
    "df.orderBy(df.Goals.desc()).select(\"Player\",\"Club\",\"Goals\").show()"
   ]
  },
  {
   "cell_type": "code",
   "execution_count": 0,
   "metadata": {
    "application/vnd.databricks.v1+cell": {
     "cellMetadata": {
      "byteLimit": 2048000,
      "rowLimit": 10000
     },
     "inputWidgets": {},
     "nuid": "fe9a87f4-5b36-4b21-a206-4748c769eafc",
     "showTitle": false,
     "tableResultSettingsMap": {},
     "title": ""
    }
   },
   "outputs": [
    {
     "output_type": "stream",
     "name": "stdout",
     "output_type": "stream",
     "text": [
      "+-----------------+----------+-------+\n|           Player|      Club|Assists|\n+-----------------+----------+-------+\n|  Kevin De Bruyne|  Man City|     22|\n|     Lionel Messi|       PSG|     18|\n|        Neymar Jr|       PSG|     12|\n|    Kylian Mbappe|       PSG|     10|\n|  Bruno Fernandes|Man United|      9|\n|   Erling Haaland|  Man City|      6|\n|Cristiano Ronaldo|  Al Nassr|      4|\n|         Casemiro|Man United|      3|\n|  Virgil van Dijk| Liverpool|      2|\n|     Sergio Ramos|       PSG|      1|\n+-----------------+----------+-------+\n\n"
     ]
    }
   ],
   "source": [
    "# Top Assist Providers\n",
    "\n",
    "df.orderBy(df.Assists.desc()).select(\"Player\",\"Club\",\"Assists\").show()"
   ]
  },
  {
   "cell_type": "code",
   "execution_count": 0,
   "metadata": {
    "application/vnd.databricks.v1+cell": {
     "cellMetadata": {
      "byteLimit": 2048000,
      "rowLimit": 10000
     },
     "inputWidgets": {},
     "nuid": "a9f63103-f9d3-4dc2-84f4-b73c153d9d0a",
     "showTitle": false,
     "tableResultSettingsMap": {},
     "title": ""
    }
   },
   "outputs": [
    {
     "output_type": "stream",
     "name": "stdout",
     "output_type": "stream",
     "text": [
      "+-----------------+----------+-----------+\n|           Player|      Club|Total_Cards|\n+-----------------+----------+-----------+\n|     Sergio Ramos|       PSG|         12|\n|         Casemiro|Man United|          9|\n|  Bruno Fernandes|Man United|          7|\n|Cristiano Ronaldo|  Al Nassr|          6|\n|        Neymar Jr|       PSG|          6|\n|  Kevin De Bruyne|  Man City|          4|\n|     Lionel Messi|       PSG|          3|\n|   Erling Haaland|  Man City|          3|\n|  Virgil van Dijk| Liverpool|          3|\n|    Kylian Mbappe|       PSG|          2|\n+-----------------+----------+-----------+\n\n"
     ]
    }
   ],
   "source": [
    "# Aggressive players with red and yellow cards\n",
    "\n",
    "from pyspark.sql.functions import col, expr\n",
    "df.withColumn(\"Total_Cards\",col(\"Yellow_Cards\") + col(\"Red_Cards\")) \\\n",
    "    .orderBy(col(\"Total_cards\").desc()) \\\n",
    "    .select(\"Player\", \"Club\",\"Total_Cards\") \\\n",
    "    .show()"
   ]
  },
  {
   "cell_type": "code",
   "execution_count": 0,
   "metadata": {
    "application/vnd.databricks.v1+cell": {
     "cellMetadata": {
      "byteLimit": 2048000,
      "rowLimit": 10000
     },
     "inputWidgets": {},
     "nuid": "366b3335-4bcd-4dec-9e9f-84e8074e7036",
     "showTitle": false,
     "tableResultSettingsMap": {},
     "title": ""
    }
   },
   "outputs": [
    {
     "output_type": "stream",
     "name": "stdout",
     "output_type": "stream",
     "text": [
      "+----------+----------+\n|      Club|sum(Goals)|\n+----------+----------+\n|       PSG|        76|\n|  Man City|        42|\n|  Al Nassr|        25|\n|Man United|        16|\n| Liverpool|         5|\n+----------+----------+\n\n"
     ]
    }
   ],
   "source": [
    "# Club with most Goals\n",
    "\n",
    "df.groupBy(\"Club\").sum(\"Goals\").orderBy(\"sum(Goals)\", ascending=False).show()"
   ]
  },
  {
   "cell_type": "code",
   "execution_count": 0,
   "metadata": {
    "application/vnd.databricks.v1+cell": {
     "cellMetadata": {
      "byteLimit": 2048000,
      "rowLimit": 10000
     },
     "inputWidgets": {},
     "nuid": "56e3ae98-954c-4ee3-b0e1-68782b8cafed",
     "showTitle": false,
     "tableResultSettingsMap": {},
     "title": ""
    }
   },
   "outputs": [
    {
     "output_type": "stream",
     "name": "stdout",
     "output_type": "stream",
     "text": [
      "+-----------------+----------------+\n|           Player|Efficiency_Score|\n+-----------------+----------------+\n|     Lionel Messi|            5.34|\n|   Erling Haaland|            4.61|\n|    Kylian Mbappe|            4.24|\n|  Kevin De Bruyne|            3.64|\n|        Neymar Jr|            3.56|\n|Cristiano Ronaldo|            3.39|\n|  Bruno Fernandes|            2.13|\n|  Virgil van Dijk|            0.77|\n|         Casemiro|             0.5|\n|     Sergio Ramos|            0.04|\n+-----------------+----------------+\n\n"
     ]
    }
   ],
   "source": [
    "#Player efficiency score\n",
    "from pyspark.sql.functions import round\n",
    "\n",
    "df.withColumn(\"Efficiency_Score\",round((col(\"Goals\")*4 + col(\"Assists\") * 3 -col(\"Yellow_Cards\") - col(\"Red_Cards\") * 2) / col(\"Matches_Played\"), 2)).orderBy(\"Efficiency_Score\", ascending=False).select(\"Player\", \"Efficiency_Score\").show()"
   ]
  },
  {
   "cell_type": "code",
   "execution_count": 0,
   "metadata": {
    "application/vnd.databricks.v1+cell": {
     "cellMetadata": {
      "byteLimit": 2048000,
      "rowLimit": 10000
     },
     "inputWidgets": {},
     "nuid": "9869b8d8-d8b6-4e21-9ddf-2235beb1df1a",
     "showTitle": false,
     "tableResultSettingsMap": {},
     "title": ""
    }
   },
   "outputs": [
    {
     "output_type": "stream",
     "name": "stdout",
     "output_type": "stream",
     "text": [
      "+----------+----------+------------+-----------------+--------------+-------------------+\n|      Club|sum(Goals)|sum(Assists)|sum(Yellow_Cards)|sum(Red_cards)|sum(Matches_Played)|\n+----------+----------+------------+-----------------+--------------+-------------------+\n|       PSG|        76|          41|               20|             3|                117|\n|  Man City|        42|          28|                7|             0|                 59|\n|  Al Nassr|        25|           4|                5|             1|                 31|\n|Man United|        16|          12|               15|             1|                 62|\n| Liverpool|         5|           2|                3|             0|                 30|\n+----------+----------+------------+-----------------+--------------+-------------------+\n\n"
     ]
    }
   ],
   "source": [
    "#Club performnace summary\n",
    "\n",
    "df.groupBy(\"Club\").agg(\n",
    "    {\n",
    "        \"Goals\":\"sum\",\"Assists\":\"sum\",\"Yellow_Cards\":\"sum\",\"Red_cards\":\"sum\",\"Matches_Played\": \"sum\"\n",
    "    }\n",
    ").orderBy(\"sum(Goals)\", ascending=False).show()"
   ]
  },
  {
   "cell_type": "code",
   "execution_count": 0,
   "metadata": {
    "application/vnd.databricks.v1+cell": {
     "cellMetadata": {
      "byteLimit": 2048000,
      "rowLimit": 10000
     },
     "inputWidgets": {},
     "nuid": "dc9c69d4-8eb9-4404-a762-7746c0e81a27",
     "showTitle": false,
     "tableResultSettingsMap": {},
     "title": ""
    }
   },
   "outputs": [
    {
     "output_type": "stream",
     "name": "stdout",
     "output_type": "stream",
     "text": [
      "+----------+-----------------+------------------+-----------------+------------------+\n|  Position|       avg(Goals)|      avg(Assists)|avg(Yellow_Cards)|    avg(Red_Cards)|\n+----------+-----------------+------------------+-----------------+------------------+\n|  Defender|              4.0|               1.5|              6.5|               1.0|\n|   Forward|             26.0|              10.0|              3.6|               0.4|\n|Midfielder|8.666666666666666|11.333333333333334|6.333333333333333|0.3333333333333333|\n+----------+-----------------+------------------+-----------------+------------------+\n\n"
     ]
    }
   ],
   "source": [
    "# Position Based stats\n",
    "\n",
    "df.groupBy(\"Position\").avg(\"Goals\", \"Assists\", \"Yellow_Cards\", \"Red_Cards\").show()"
   ]
  },
  {
   "cell_type": "code",
   "execution_count": 0,
   "metadata": {
    "application/vnd.databricks.v1+cell": {
     "cellMetadata": {
      "byteLimit": 2048000,
      "rowLimit": 10000
     },
     "inputWidgets": {},
     "nuid": "1dee5de3-0ac9-4bf6-9946-9d2b03fc9393",
     "showTitle": false,
     "tableResultSettingsMap": {},
     "title": ""
    }
   },
   "outputs": [
    {
     "output_type": "stream",
     "name": "stdout",
     "output_type": "stream",
     "text": [
      "+-----------------+-----+--------------+---------------+\n|           Player|Goals|Matches_Played|Goals_Per_Match|\n+-----------------+-----+--------------+---------------+\n|   Erling Haaland|   32|            31|           1.03|\n|     Lionel Messi|   30|            32|           0.94|\n|    Kylian Mbappe|   28|            33|           0.85|\n|Cristiano Ronaldo|   25|            31|           0.81|\n|        Neymar Jr|   15|            25|            0.6|\n|  Bruno Fernandes|   12|            32|           0.38|\n|  Kevin De Bruyne|   10|            28|           0.36|\n|  Virgil van Dijk|    5|            30|           0.17|\n|         Casemiro|    4|            30|           0.13|\n|     Sergio Ramos|    3|            27|           0.11|\n+-----------------+-----+--------------+---------------+\n\n"
     ]
    }
   ],
   "source": [
    "#Top Consistent Players\n",
    "\n",
    "df.withColumn(\"Goals_Per_Match\", round(col(\"Goals\") / col(\"Matches_Played\"), 2)) \\\n",
    "    .orderBy(\"Goals_Per_match\", ascending=False) \\\n",
    "    .select(\"Player\", \"Goals\", \"Matches_Played\", \"Goals_Per_Match\") \\\n",
    "    .show()"
   ]
  },
  {
   "cell_type": "code",
   "execution_count": 0,
   "metadata": {
    "application/vnd.databricks.v1+cell": {
     "cellMetadata": {
      "byteLimit": 2048000,
      "rowLimit": 10000
     },
     "inputWidgets": {},
     "nuid": "4eaaea1e-a1af-4eb0-a2d9-54f3f10d9857",
     "showTitle": false,
     "tableResultSettingsMap": {},
     "title": ""
    }
   },
   "outputs": [
    {
     "output_type": "stream",
     "name": "stdout",
     "output_type": "stream",
     "text": [
      "+-----------------+--------------------+\n|           Player|Aggressiveness_Score|\n+-----------------+--------------------+\n|     Sergio Ramos|                0.44|\n|         Casemiro|                 0.3|\n|        Neymar Jr|                0.24|\n|  Bruno Fernandes|                0.22|\n|Cristiano Ronaldo|                0.19|\n|  Kevin De Bruyne|                0.14|\n|  Virgil van Dijk|                 0.1|\n|   Erling Haaland|                 0.1|\n|     Lionel Messi|                0.09|\n|    Kylian Mbappe|                0.06|\n+-----------------+--------------------+\n\n"
     ]
    }
   ],
   "source": [
    "#Cards per match ratio\n",
    "\n",
    "df.withColumn(\"Aggressiveness_Score\",\n",
    "              round((col(\"Yellow_Cards\") + col(\"Red_Cards\"))  / col(\"Matches_Played\"), 2)\n",
    "    ).orderBy(\"Aggressiveness_score\",ascending=False).select(\"Player\", \"Aggressiveness_Score\").show()"
   ]
  },
  {
   "cell_type": "code",
   "execution_count": 0,
   "metadata": {
    "application/vnd.databricks.v1+cell": {
     "cellMetadata": {},
     "inputWidgets": {},
     "nuid": "ae2e51bf-ba27-4ce0-aff3-052a23e774f6",
     "showTitle": false,
     "tableResultSettingsMap": {},
     "title": ""
    }
   },
   "outputs": [],
   "source": []
  }
 ],
 "metadata": {
  "application/vnd.databricks.v1+notebook": {
   "computePreferences": null,
   "dashboards": [],
   "environmentMetadata": {
    "base_environment": "",
    "environment_version": "2"
   },
   "inputWidgetPreferences": null,
   "language": "python",
   "notebookMetadata": {
    "pythonIndentUnit": 4
   },
   "notebookName": "Football Analysis",
   "widgets": {}
  },
  "language_info": {
   "name": "python"
  }
 },
 "nbformat": 4,
 "nbformat_minor": 0
}